{
 "cells": [
  {
   "cell_type": "code",
   "execution_count": 1,
   "metadata": {
    "id": "RmcePvBpCIUF"
   },
   "outputs": [],
   "source": [
    "from skimage import io\n",
    "from skimage.transform import resize\n",
    "import math \n",
    "import pickle \n",
    "from sklearn.model_selection import train_test_split\n",
    "from sklearn.preprocessing import  OneHotEncoder\n",
    "import matplotlib.pyplot as plt\n",
    "import numpy as np\n",
    "import pandas as pd\n",
    "import random\n",
    "from os import listdir, path, makedirs\n",
    "import cv2 \n",
    "import os\n",
    "\n",
    "from sklearn.preprocessing import LabelEncoder\n",
    "from tensorflow.keras.utils import to_categorical"
   ]
  },
  {
   "cell_type": "code",
   "execution_count": 2,
   "metadata": {
    "colab": {
     "base_uri": "https://localhost:8080/"
    },
    "id": "Uo5myEupplLi",
    "outputId": "dcf47045-e860-47a1-ad99-ef17c796bf77"
   },
   "outputs": [
    {
     "name": "stdout",
     "output_type": "stream",
     "text": [
      "Mounted at /content/gdrive\n"
     ]
    }
   ],
   "source": [
    "# mount the drive to get data\n",
    "\n",
    "from google.colab import drive\n",
    "drive.mount('/content/gdrive')"
   ]
  },
  {
   "cell_type": "code",
   "execution_count": 3,
   "metadata": {
    "id": "migB9NXt7idY"
   },
   "outputs": [],
   "source": [
    "def load_images_from_folder(folder,label):\n",
    "    images = []\n",
    "    labels = []\n",
    "    imageNames = []\n",
    "    for filename in os.listdir(folder):\n",
    "        if '.tif' in filename or '.TIF' in filename:\n",
    "            # img = io.imread(os.path.join(folder,filename)) /255 \n",
    "            img = cv2.cvtColor(cv2.imread(os.path.join(folder,filename)), cv2.COLOR_BGR2GRAY)\n",
    "            img = img/255\n",
    "            if img is not None:\n",
    "                images.append(img)\n",
    "                labels.append(label)\n",
    "                imageNames.append(filename)\n",
    "    return np.array(images),np.array(labels),imageNames"
   ]
  },
  {
   "cell_type": "code",
   "execution_count": 4,
   "metadata": {
    "id": "8MNqa2XZCz-Q"
   },
   "outputs": [],
   "source": [
    "data_dir = '/content/gdrive/MyDrive/dataset'"
   ]
  },
  {
   "cell_type": "code",
   "execution_count": 5,
   "metadata": {
    "id": "3TJq9qzzC5DH"
   },
   "outputs": [],
   "source": [
    "folder_names = [f for f in listdir(data_dir)]"
   ]
  },
  {
   "cell_type": "code",
   "execution_count": 6,
   "metadata": {
    "colab": {
     "base_uri": "https://localhost:8080/"
    },
    "id": "4egxGEp0C9MY",
    "outputId": "ca4e43ce-b095-4d4b-9649-ed191e5101af"
   },
   "outputs": [
    {
     "name": "stdout",
     "output_type": "stream",
     "text": [
      "golgia 88\n",
      "dna 88\n",
      "actin 99\n",
      "golgpp 86\n",
      "lysosome 85\n",
      "endosome 92\n",
      "mitochondria 74\n",
      "nucleolus 81\n",
      "microtubules 92\n",
      "er 87\n"
     ]
    }
   ],
   "source": [
    "count_img = 0\n",
    "for folder in folder_names:\n",
    "    imgs = [img for img in listdir(path.join(data_dir, folder))]\n",
    "    count_img += len(imgs)\n",
    "    print(folder, len(imgs))"
   ]
  },
  {
   "cell_type": "code",
   "execution_count": 7,
   "metadata": {
    "id": "ZLkN16lGDCZw"
   },
   "outputs": [],
   "source": [
    "golgia,golgia_labels,imagenames0         = load_images_from_folder(path.join(data_dir, 'golgia'),'golgia')\n",
    "dna,dna_labels,imagenames1              = load_images_from_folder(path.join(data_dir, 'dna'),'dna')\n",
    "actin,actin_labels,imagenames2                = load_images_from_folder(path.join(data_dir, 'actin'),'actin')\n",
    "golgpp,golgpp_labels,imagenames3          = load_images_from_folder(path.join(data_dir, 'golgpp'),'golgpp')\n",
    "lysosome,lysosome_labels,imagenames4              = load_images_from_folder(path.join(data_dir, 'lysosome'),'lysosome')\n",
    "endosome,endosome_labels,imagenames5          = load_images_from_folder(path.join(data_dir, 'endosome'),'endosome')\n",
    "mitochondria,mitochondria_labels,imagenames6       = load_images_from_folder(path.join(data_dir, 'mitochondria'),'mitochondria')\n",
    "nucleolus,nucleolus_labels,imagenames7          = load_images_from_folder(path.join(data_dir, 'nucleolus'),'nucleolus')\n",
    "microtubules,microtubules_labels,imagenames8        = load_images_from_folder(path.join(data_dir, 'microtubules'),'microtubules')\n",
    "er,er_labels,imagenames9                = load_images_from_folder(path.join(data_dir, 'er'),'er')"
   ]
  },
  {
   "cell_type": "code",
   "execution_count": 8,
   "metadata": {
    "id": "IhvZxXjDFUHv"
   },
   "outputs": [],
   "source": [
    "X = []\n",
    "Y = []\n",
    "imageNames = [] \n",
    "\n",
    "\n",
    "for i in range(len(golgia)):\n",
    "    X.append(golgia[i])\n",
    "    Y.append(golgia_labels[i])\n",
    "    imageNames.append('golgia - ' + imagenames0[i])\n",
    "\n",
    "for i in range(len(dna)):\n",
    "    X.append(dna[i])\n",
    "    Y.append(dna_labels[i])\n",
    "    imageNames.append('dna - ' + imagenames1[i])\n",
    "\n",
    "for i in range(len(actin)):\n",
    "    X.append(actin[i])\n",
    "    Y.append(actin_labels[i])\n",
    "    imageNames.append('actin - ' + imagenames2[i])\n",
    "\n",
    "for i in range(len(golgpp)):\n",
    "    X.append(golgpp[i])\n",
    "    Y.append(golgpp_labels[i])\n",
    "    imageNames.append('golgpp - ' + imagenames3[i])\n",
    "\n",
    "for i in range(len(lysosome)):\n",
    "    X.append(lysosome[i])\n",
    "    Y.append(lysosome_labels[i])\n",
    "    imageNames.append('lysosome - ' + imagenames4[i])\n",
    "\n",
    "for i in range(len(endosome)):\n",
    "    X.append(endosome[i])\n",
    "    Y.append(endosome_labels[i])\n",
    "    imageNames.append('endosome - ' + imagenames5[i])\n",
    "\n",
    "for i in range(len(mitochondria)):\n",
    "    X.append(mitochondria[i])\n",
    "    Y.append(mitochondria_labels[i])\n",
    "    imageNames.append('mitochondria - ' + imagenames6[i])\n",
    "\n",
    "for i in range(len(nucleolus)):\n",
    "    X.append(nucleolus[i])\n",
    "    Y.append(nucleolus_labels[i])\n",
    "    imageNames.append('nucleolus - ' + imagenames7[i])\n",
    "\n",
    "for i in range(len(microtubules)):\n",
    "    X.append(microtubules[i])\n",
    "    Y.append(microtubules_labels[i])\n",
    "    imageNames.append('microtubules - ' + imagenames8[i])\n",
    "\n",
    "for i in range(len(er)):\n",
    "    X.append(er[i])\n",
    "    Y.append(er_labels[i])\n",
    "    imageNames.append('er - ' + imagenames9[i])\n"
   ]
  },
  {
   "cell_type": "code",
   "execution_count": 9,
   "metadata": {
    "id": "I59RbCroggTj"
   },
   "outputs": [],
   "source": [
    "\n",
    "temp = list(zip(X, Y,imageNames))\n",
    "random.shuffle(temp)\n",
    "X, Y, imageNames = zip(*temp)\n",
    "del temp\n",
    "X = np.array(X,dtype=float)\n",
    "X = X.reshape(X.shape[0], X.shape[1], X.shape[2], 1)\n",
    "Y = np.array(Y)"
   ]
  },
  {
   "cell_type": "code",
   "execution_count": 10,
   "metadata": {
    "colab": {
     "base_uri": "https://localhost:8080/"
    },
    "id": "KZUYMZZUm1kJ",
    "outputId": "5102cbe0-121e-47e1-c98a-83c24f3573b9"
   },
   "outputs": [
    {
     "data": {
      "text/plain": [
       "array([3, 7, 8, 2, 8, 9, 0, 6, 9, 5, 1, 0, 7, 7, 3, 0, 4, 2, 6, 1, 4, 5,\n",
       "       0, 5, 2, 2, 9, 5, 2, 9, 2, 7, 3, 0, 4, 3, 3, 1, 0, 0, 4, 0, 0, 7,\n",
       "       1, 1, 7, 7, 0, 1, 0, 8, 0, 7, 6, 8, 5, 5, 0, 4, 8, 5, 3, 1, 8, 6,\n",
       "       3, 9, 1, 5, 7, 3, 4, 1, 9, 9, 1, 6, 7, 2, 2, 0, 0, 7, 7, 4, 8, 3,\n",
       "       1, 1, 8, 4, 6, 1, 6, 9, 4, 6, 9, 5, 6, 5, 8, 4, 1, 9, 5, 7, 2, 0,\n",
       "       0, 2, 8, 8, 3, 5, 7, 0, 5, 2, 2, 8, 8, 5, 9, 7, 1, 1, 0, 9, 4, 4,\n",
       "       7, 9, 4, 3, 3, 1, 7, 6, 2, 6, 0, 2, 1, 9, 6, 2, 1, 9, 7, 7, 5, 5,\n",
       "       4, 6, 3, 0, 2, 3, 4, 7, 6, 2, 9, 8, 2, 4, 8, 0, 5, 3, 4, 1, 2, 4,\n",
       "       2, 2, 8, 8, 7, 8, 8, 7, 5, 6, 4, 0, 9, 9, 4, 7, 6, 6, 0, 1, 8, 5,\n",
       "       0, 2, 3, 9, 6, 4, 5, 6, 0, 2, 3, 4, 5, 4, 1, 4, 1, 2, 4, 8, 0, 3,\n",
       "       5, 6, 9, 6, 6, 1, 9, 5, 6, 9, 1, 2, 9, 9, 0, 2, 4, 3, 7, 2, 0, 4,\n",
       "       7, 9, 7, 6, 1, 9, 7, 7, 8, 6, 1, 3, 7, 8, 3, 4, 5, 0, 3, 6, 9, 3,\n",
       "       9, 9, 6, 4, 1, 0, 5, 2, 2, 6, 7, 6, 1, 5, 4, 8, 1, 0, 0, 8, 3, 1,\n",
       "       1, 8, 8, 3, 2, 4, 1, 4, 8, 0, 4, 7, 8, 5, 5, 6, 0, 6, 8, 6, 3, 9,\n",
       "       9, 9, 6, 9, 0, 8, 8, 3, 3, 4, 4, 6, 4, 3, 6, 3, 1, 9, 0, 0, 8, 2,\n",
       "       5, 9, 8, 7, 2, 4, 4, 5, 4, 5, 0, 8, 3, 7, 8, 0, 9, 2, 8, 8, 2, 6,\n",
       "       9, 9, 6, 5, 7, 5, 3, 6, 8, 2, 4, 6, 0, 5, 9, 3, 1, 3, 5, 7, 1, 5,\n",
       "       7, 8, 4, 2, 0, 5, 8, 3, 9, 7, 0, 0, 7, 1, 2, 4, 7, 4, 3, 7, 3, 1,\n",
       "       7, 8, 4, 8, 4, 0, 9, 0, 9, 2, 0, 9, 8, 5, 9, 0, 0, 4, 4, 0, 5, 4,\n",
       "       5, 3, 7, 9, 4, 6, 5, 5, 7, 1, 5, 5, 3, 9, 8, 8, 2, 6, 0, 0, 0, 8,\n",
       "       0, 5, 2, 8, 1, 7, 1, 4, 2, 9, 8, 8, 4, 3, 8, 0, 1, 8, 2, 4, 5, 5,\n",
       "       7, 0, 2, 0, 3, 7, 3, 7, 4, 7, 0, 5, 2, 7, 0, 8, 1, 9, 8, 7, 1, 9,\n",
       "       2, 0, 2, 2, 2, 4, 1, 7, 6, 9, 6, 7, 1, 1, 6, 6, 4, 1, 8, 0, 3, 3,\n",
       "       2, 4, 2, 1, 2, 3, 7, 7, 6, 7, 2, 7, 0, 7, 8, 4, 4, 6, 5, 5, 7, 2,\n",
       "       9, 5, 6, 3, 3, 6, 5, 6, 7, 2, 6, 0, 5, 9, 2, 2, 0, 3, 7, 0, 8, 5,\n",
       "       5, 5, 5, 1, 7, 1, 7, 2, 9, 9, 5, 6, 6, 1, 7, 4, 6, 2, 6, 3, 7, 1,\n",
       "       5, 1, 6, 5, 3, 2, 2, 2, 1, 3, 6, 4, 6, 7, 8, 1, 7, 3, 9, 4, 4, 5,\n",
       "       2, 2, 4, 7, 8, 8, 4, 8, 0, 6, 1, 9, 5, 6, 9, 0, 3, 6, 4, 7, 0, 6,\n",
       "       8, 2, 1, 9, 3, 7, 1, 3, 2, 0, 9, 7, 6, 3, 2, 4, 6, 5, 0, 2, 3, 6,\n",
       "       0, 6, 4, 1, 3, 6, 1, 3, 2, 2, 1, 4, 0, 6, 7, 9, 2, 3, 4, 0, 6, 6,\n",
       "       5, 9, 1, 8, 9, 5, 4, 7, 4, 1, 8, 2, 2, 2, 5, 2, 5, 8, 3, 5, 0, 7,\n",
       "       3, 8, 7, 9, 1, 9, 0, 7, 4, 1, 9, 8, 1, 1, 5, 5, 0, 3, 6, 0, 8, 0,\n",
       "       7, 6, 2, 4, 0, 3, 4, 9, 4, 2, 1, 3, 4, 7, 4, 3, 5, 2, 6, 2, 5, 0,\n",
       "       1, 9, 1, 0, 9, 2, 8, 7, 9, 0, 2, 2, 9, 6, 6, 3, 0, 3, 9, 6, 9, 1,\n",
       "       5, 5, 3, 3, 6, 4, 1, 8, 3, 9, 1, 2, 1, 2, 6, 0, 4, 0, 7, 7, 1, 1,\n",
       "       6, 6, 5, 7, 2, 3, 2, 7, 5, 1, 1, 6, 8, 3, 0, 4, 5, 4, 1, 2, 7, 3,\n",
       "       3, 3, 1, 7, 5, 0, 7, 0, 1, 3, 8, 7, 9, 4, 3, 7, 3, 3, 5, 0, 9, 3,\n",
       "       4, 1, 0, 4, 5, 0, 0, 1, 2, 5, 1, 4, 4, 7, 3, 5, 0, 9, 9, 6, 2, 1,\n",
       "       5, 6, 2, 9, 0, 2, 6, 3, 0, 0, 0, 2, 4, 0, 3, 1, 8, 7, 3, 5, 5, 7,\n",
       "       9, 7, 9, 3])"
      ]
     },
     "execution_count": 10,
     "metadata": {
      "tags": []
     },
     "output_type": "execute_result"
    }
   ],
   "source": [
    "label_encoder = LabelEncoder()\n",
    "Y_integer_encoded = label_encoder.fit_transform(Y)\n",
    "Y_integer_encoded"
   ]
  },
  {
   "cell_type": "code",
   "execution_count": 11,
   "metadata": {
    "colab": {
     "base_uri": "https://localhost:8080/",
     "height": 304
    },
    "id": "QGDUNHZQDMzs",
    "outputId": "a9dc7e8b-250a-46c4-f290-9b31dace322b"
   },
   "outputs": [
    {
     "data": {
      "image/png": "[encoded data removed]",
      "text/plain": [
       "<Figure size 432x288 with 1 Axes>"
      ]
     },
     "metadata": {
      "needs_background": "light",
      "tags": []
     },
     "output_type": "display_data"
    },
    {
     "name": "stdout",
     "output_type": "stream",
     "text": [
      "dna\n",
      "dna - DNA_050.TIF\n"
     ]
    }
   ],
   "source": [
    "plt.imshow(X[10].reshape(X.shape[1], X.shape[2]),cmap='gray')\n",
    "plt.show()\n",
    "\n",
    "print(Y[10])\n",
    "print(imageNames[10])"
   ]
  },
  {
   "cell_type": "code",
   "execution_count": 12,
   "metadata": {
    "colab": {
     "base_uri": "https://localhost:8080/"
    },
    "id": "JJpsSvpqECvE",
    "outputId": "71331985-59d9-4480-f00a-3b4dedf4203d"
   },
   "outputs": [
    {
     "data": {
      "text/plain": [
       "(862, 382, 382, 1)"
      ]
     },
     "execution_count": 12,
     "metadata": {
      "tags": []
     },
     "output_type": "execute_result"
    }
   ],
   "source": [
    "X.shape"
   ]
  },
  {
   "cell_type": "code",
   "execution_count": 13,
   "metadata": {
    "colab": {
     "base_uri": "https://localhost:8080/"
    },
    "id": "-yR571uqEET_",
    "outputId": "122d0a74-4f54-4d1c-a474-fd0596debea0"
   },
   "outputs": [
    {
     "data": {
      "text/plain": [
       "(862,)"
      ]
     },
     "execution_count": 13,
     "metadata": {
      "tags": []
     },
     "output_type": "execute_result"
    }
   ],
   "source": [
    "Y.shape"
   ]
  },
  {
   "cell_type": "code",
   "execution_count": 14,
   "metadata": {
    "colab": {
     "base_uri": "https://localhost:8080/"
    },
    "id": "l7yJYRyqEJdo",
    "outputId": "9853178c-0a75-4b4c-aa07-3c73168a9791"
   },
   "outputs": [
    {
     "data": {
      "text/plain": [
       "862"
      ]
     },
     "execution_count": 14,
     "metadata": {
      "tags": []
     },
     "output_type": "execute_result"
    }
   ],
   "source": [
    "len(imageNames)"
   ]
  },
  {
   "cell_type": "code",
   "execution_count": 21,
   "metadata": {
    "id": "aD6UNOcENSCf"
   },
   "outputs": [],
   "source": [
    "X_train, X_test, y_train, y_test = train_test_split(X, Y_integer_encoded, test_size=0.15)\n",
    "X_train, X_val, y_train, y_val = train_test_split(X_train, y_train, test_size=0.18)"
   ]
  },
  {
   "cell_type": "markdown",
   "metadata": {
    "id": "EZVKczbTooMX"
   },
   "source": [
    "# Bulid The Model "
   ]
  },
  {
   "cell_type": "code",
   "execution_count": 16,
   "metadata": {
    "id": "rj0KAosgpc49"
   },
   "outputs": [],
   "source": [
    "import keras\n",
    "from keras.models import Sequential\n",
    "from keras.layers import Dense, Dropout, Flatten, Activation\n",
    "from keras.layers import Conv2D, MaxPooling2D"
   ]
  },
  {
   "cell_type": "code",
   "execution_count": 17,
   "metadata": {
    "colab": {
     "base_uri": "https://localhost:8080/"
    },
    "id": "RNeuR-zKmveY",
    "outputId": "b10419ea-86e6-495d-f44c-8ced79e7cba3"
   },
   "outputs": [
    {
     "name": "stdout",
     "output_type": "stream",
     "text": [
      "Model: \"sequential\"\n",
      "_________________________________________________________________\n",
      "Layer (type)                 Output Shape              Param #   \n",
      "=================================================================\n",
      "conv2d (Conv2D)              (None, 380, 380, 16)      160       \n",
      "_________________________________________________________________\n",
      "max_pooling2d (MaxPooling2D) (None, 190, 190, 16)      0         \n",
      "_________________________________________________________________\n",
      "conv2d_1 (Conv2D)            (None, 188, 188, 32)      4640      \n",
      "_________________________________________________________________\n",
      "max_pooling2d_1 (MaxPooling2 (None, 94, 94, 32)        0         \n",
      "_________________________________________________________________\n",
      "conv2d_2 (Conv2D)            (None, 92, 92, 64)        18496     \n",
      "_________________________________________________________________\n",
      "max_pooling2d_2 (MaxPooling2 (None, 46, 46, 64)        0         \n",
      "_________________________________________________________________\n",
      "conv2d_3 (Conv2D)            (None, 44, 44, 64)        36928     \n",
      "_________________________________________________________________\n",
      "max_pooling2d_3 (MaxPooling2 (None, 22, 22, 64)        0         \n",
      "_________________________________________________________________\n",
      "conv2d_4 (Conv2D)            (None, 20, 20, 128)       73856     \n",
      "_________________________________________________________________\n",
      "max_pooling2d_4 (MaxPooling2 (None, 10, 10, 128)       0         \n",
      "_________________________________________________________________\n",
      "conv2d_5 (Conv2D)            (None, 8, 8, 128)         147584    \n",
      "_________________________________________________________________\n",
      "max_pooling2d_5 (MaxPooling2 (None, 4, 4, 128)         0         \n",
      "_________________________________________________________________\n",
      "flatten (Flatten)            (None, 2048)              0         \n",
      "_________________________________________________________________\n",
      "dropout (Dropout)            (None, 2048)              0         \n",
      "_________________________________________________________________\n",
      "dense (Dense)                (None, 256)               524544    \n",
      "_________________________________________________________________\n",
      "dense_1 (Dense)              (None, 10)                2570      \n",
      "=================================================================\n",
      "Total params: 808,778\n",
      "Trainable params: 808,778\n",
      "Non-trainable params: 0\n",
      "_________________________________________________________________\n"
     ]
    }
   ],
   "source": [
    "model = Sequential()\n",
    "model.add(Conv2D(16, (3, 3), activation='relu', input_shape=(382, 382,1)))\n",
    "model.add(MaxPooling2D((2, 2)))\n",
    "model.add(Conv2D(32, (3, 3), activation='relu'))\n",
    "\n",
    "# model.add(Dropout(0.25))\n",
    "\n",
    "model.add(MaxPooling2D((2, 2)))\n",
    "model.add(Conv2D(64, (3, 3), activation='relu'))\n",
    "model.add(MaxPooling2D((2, 2)))\n",
    "model.add(Conv2D(64, (3, 3), activation='relu'))\n",
    "model.add(MaxPooling2D((2, 2)))\n",
    "model.add(Conv2D(128, (3, 3), activation='relu'))\n",
    "model.add(MaxPooling2D((2, 2)))\n",
    "model.add(Conv2D(128, (3, 3), activation='relu'))\n",
    "model.add(MaxPooling2D((2, 2)))\n",
    "\n",
    "# model.add(Conv2D(256, (3, 3), activation='relu'))\n",
    "# model.add(MaxPooling2D((2, 2)))\n",
    "\n",
    "model.add(Flatten())\n",
    "model.add(Dropout(0.5))\n",
    "model.add(Dense(256, activation='relu'))\n",
    "model.add(Dense(10, activation='softmax'))\n",
    "model.summary()"
   ]
  },
  {
   "cell_type": "code",
   "execution_count": 22,
   "metadata": {
    "colab": {
     "base_uri": "https://localhost:8080/"
    },
    "id": "RPzWY1YQpFEW",
    "outputId": "1e212f5f-144f-4a2e-db1a-1ce5d194809d"
   },
   "outputs": [
    {
     "name": "stdout",
     "output_type": "stream",
     "text": [
      "Epoch 1/20\n",
      "10/10 [==============================] - 5s 344ms/step - loss: 0.9469 - accuracy: 0.7286 - val_loss: 0.6154 - val_accuracy: 0.7803\n",
      "\n",
      "Epoch 00001: val_accuracy improved from -inf to 0.78030, saving model to /content/Cells_Model.h5\n",
      "Epoch 2/20\n",
      "10/10 [==============================] - 3s 284ms/step - loss: 0.5905 - accuracy: 0.7967 - val_loss: 0.4514 - val_accuracy: 0.8258\n",
      "\n",
      "Epoch 00002: val_accuracy improved from 0.78030 to 0.82576, saving model to /content/Cells_Model.h5\n",
      "Epoch 3/20\n",
      "10/10 [==============================] - 3s 282ms/step - loss: 0.4357 - accuracy: 0.8300 - val_loss: 0.4597 - val_accuracy: 0.8030\n",
      "\n",
      "Epoch 00003: val_accuracy did not improve from 0.82576\n",
      "Epoch 4/20\n",
      "10/10 [==============================] - 3s 283ms/step - loss: 0.3158 - accuracy: 0.8874 - val_loss: 0.3870 - val_accuracy: 0.8561\n",
      "\n",
      "Epoch 00004: val_accuracy improved from 0.82576 to 0.85606, saving model to /content/Cells_Model.h5\n",
      "Epoch 5/20\n",
      "10/10 [==============================] - 3s 282ms/step - loss: 0.3270 - accuracy: 0.8898 - val_loss: 0.5283 - val_accuracy: 0.8106\n",
      "\n",
      "Epoch 00005: val_accuracy did not improve from 0.85606\n",
      "Epoch 6/20\n",
      "10/10 [==============================] - 3s 285ms/step - loss: 0.2282 - accuracy: 0.9060 - val_loss: 0.4652 - val_accuracy: 0.8106\n",
      "\n",
      "Epoch 00006: val_accuracy did not improve from 0.85606\n",
      "Epoch 7/20\n",
      "10/10 [==============================] - 3s 284ms/step - loss: 0.2600 - accuracy: 0.9004 - val_loss: 0.5193 - val_accuracy: 0.8106\n",
      "\n",
      "Epoch 00007: val_accuracy did not improve from 0.85606\n",
      "Epoch 8/20\n",
      "10/10 [==============================] - 3s 283ms/step - loss: 0.2591 - accuracy: 0.8910 - val_loss: 0.4848 - val_accuracy: 0.8258\n",
      "\n",
      "Epoch 00008: val_accuracy did not improve from 0.85606\n",
      "Epoch 9/20\n",
      "10/10 [==============================] - 3s 284ms/step - loss: 0.1629 - accuracy: 0.9507 - val_loss: 0.5566 - val_accuracy: 0.7955\n",
      "\n",
      "Epoch 00009: val_accuracy did not improve from 0.85606\n",
      "Epoch 10/20\n",
      "10/10 [==============================] - 3s 283ms/step - loss: 0.1683 - accuracy: 0.9383 - val_loss: 0.5905 - val_accuracy: 0.7879\n",
      "\n",
      "Epoch 00010: val_accuracy did not improve from 0.85606\n",
      "Epoch 11/20\n",
      "10/10 [==============================] - 3s 284ms/step - loss: 0.1483 - accuracy: 0.9440 - val_loss: 0.5831 - val_accuracy: 0.8106\n",
      "\n",
      "Epoch 00011: val_accuracy did not improve from 0.85606\n",
      "Epoch 12/20\n",
      "10/10 [==============================] - 3s 283ms/step - loss: 0.1569 - accuracy: 0.9421 - val_loss: 0.4982 - val_accuracy: 0.8561\n",
      "\n",
      "Epoch 00012: val_accuracy did not improve from 0.85606\n",
      "Epoch 13/20\n",
      "10/10 [==============================] - 3s 283ms/step - loss: 0.1101 - accuracy: 0.9673 - val_loss: 0.8376 - val_accuracy: 0.7652\n",
      "\n",
      "Epoch 00013: val_accuracy did not improve from 0.85606\n",
      "Epoch 14/20\n",
      "10/10 [==============================] - 3s 283ms/step - loss: 0.2183 - accuracy: 0.9225 - val_loss: 0.5815 - val_accuracy: 0.7955\n",
      "\n",
      "Epoch 00014: val_accuracy did not improve from 0.85606\n",
      "Epoch 15/20\n",
      "10/10 [==============================] - 3s 282ms/step - loss: 0.2115 - accuracy: 0.9262 - val_loss: 0.5945 - val_accuracy: 0.7803\n",
      "\n",
      "Epoch 00015: val_accuracy did not improve from 0.85606\n",
      "Epoch 16/20\n",
      "10/10 [==============================] - 3s 286ms/step - loss: 0.1247 - accuracy: 0.9470 - val_loss: 0.6497 - val_accuracy: 0.7576\n",
      "\n",
      "Epoch 00016: val_accuracy did not improve from 0.85606\n",
      "Epoch 17/20\n",
      "10/10 [==============================] - 3s 282ms/step - loss: 0.1090 - accuracy: 0.9617 - val_loss: 0.5986 - val_accuracy: 0.7879\n",
      "\n",
      "Epoch 00017: val_accuracy did not improve from 0.85606\n",
      "Epoch 18/20\n",
      "10/10 [==============================] - 3s 282ms/step - loss: 0.0702 - accuracy: 0.9751 - val_loss: 0.6674 - val_accuracy: 0.8106\n",
      "\n",
      "Epoch 00018: val_accuracy did not improve from 0.85606\n",
      "Epoch 19/20\n",
      "10/10 [==============================] - 3s 283ms/step - loss: 0.0682 - accuracy: 0.9806 - val_loss: 0.6391 - val_accuracy: 0.7879\n",
      "\n",
      "Epoch 00019: val_accuracy did not improve from 0.85606\n",
      "Epoch 20/20\n",
      "10/10 [==============================] - 3s 282ms/step - loss: 0.0484 - accuracy: 0.9838 - val_loss: 0.6133 - val_accuracy: 0.8485\n",
      "\n",
      "Epoch 00020: val_accuracy did not improve from 0.85606\n"
     ]
    }
   ],
   "source": [
    "model.compile(optimizer = 'adam', loss = 'sparse_categorical_crossentropy', metrics = ['accuracy'])\n",
    "\n",
    "call = [keras.callbacks.ModelCheckpoint('/content/Cells_Model.h5', monitor='val_accuracy', verbose=1, save_best_only=True, mode='max')]\n",
    "\n",
    "history = model.fit(X_train, y_train, epochs = 20, validation_data= (X_val, y_val), batch_size= 64,shuffle=True,callbacks = call)"
   ]
  },
  {
   "cell_type": "code",
   "execution_count": 23,
   "metadata": {
    "colab": {
     "base_uri": "https://localhost:8080/"
    },
    "id": "QPrBDcIjpzDa",
    "outputId": "14338c36-60b5-48c0-eef9-b64442ddbd69"
   },
   "outputs": [
    {
     "name": "stdout",
     "output_type": "stream",
     "text": [
      "5/5 [==============================] - 0s 56ms/step - loss: 0.5295 - accuracy: 0.9077\n",
      "5/5 [==============================] - 1s 51ms/step - loss: 0.3435 - accuracy: 0.9154\n"
     ]
    },
    {
     "data": {
      "text/plain": [
       "[0.343510240316391, 0.9153845906257629]"
      ]
     },
     "execution_count": 23,
     "metadata": {
      "tags": []
     },
     "output_type": "execute_result"
    }
   ],
   "source": [
    "results = model.evaluate(X_test, y_test)\n",
    "\n",
    "m2 = keras.models.load_model('Cells_Model.h5')\n",
    "\n",
    "m2.evaluate(X_test, y_test)"
   ]
  },
  {
   "cell_type": "code",
   "execution_count": 24,
   "metadata": {
    "colab": {
     "base_uri": "https://localhost:8080/"
    },
    "id": "DGbvJ1yCuV0s",
    "outputId": "62888d10-bc58-452d-933e-5e39d7b702e7"
   },
   "outputs": [
    {
     "name": "stdout",
     "output_type": "stream",
     "text": [
      "INFO:tensorflow:Assets written to: my_model_caltech/assets\n"
     ]
    }
   ],
   "source": [
    "model.save(\"my_model_caltech\")"
   ]
  },
  {
   "cell_type": "code",
   "execution_count": 25,
   "metadata": {
    "id": "Xy6RZWKiz8By"
   },
   "outputs": [],
   "source": [
    "m = keras.models.load_model('my_model_caltech')"
   ]
  },
  {
   "cell_type": "code",
   "execution_count": 26,
   "metadata": {
    "colab": {
     "base_uri": "https://localhost:8080/"
    },
    "id": "uhkg93Phz9sq",
    "outputId": "82723012-0c56-4513-9deb-b4ec15039e32"
   },
   "outputs": [
    {
     "name": "stdout",
     "output_type": "stream",
     "text": [
      "  adding: content/my_model_caltech/ (stored 0%)\n",
      "  adding: content/my_model_caltech/assets/ (stored 0%)\n",
      "  adding: content/my_model_caltech/variables/ (stored 0%)\n",
      "  adding: content/my_model_caltech/variables/variables.data-00000-of-00001 (deflated 13%)\n",
      "  adding: content/my_model_caltech/variables/variables.index (deflated 69%)\n",
      "  adding: content/my_model_caltech/saved_model.pb (deflated 89%)\n",
      "  adding: content/my_model_caltech/keras_metadata.pb (deflated 94%)\n"
     ]
    }
   ],
   "source": [
    "!zip -r /content/my_model.zip /content/my_model_caltech"
   ]
  },
  {
   "cell_type": "code",
   "execution_count": 27,
   "metadata": {
    "colab": {
     "base_uri": "https://localhost:8080/"
    },
    "id": "Vnk9ipc-0Gqp",
    "outputId": "f4e50ed5-eb41-4752-e45b-8b1d3ae4d139"
   },
   "outputs": [
    {
     "name": "stderr",
     "output_type": "stream",
     "text": [
      "/usr/local/lib/python3.7/dist-packages/keras/engine/sequential.py:450: UserWarning: `model.predict_classes()` is deprecated and will be removed after 2021-01-01. Please use instead:* `np.argmax(model.predict(x), axis=-1)`,   if your model does multi-class classification   (e.g. if it uses a `softmax` last-layer activation).* `(model.predict(x) > 0.5).astype(\"int32\")`,   if your model does binary classification   (e.g. if it uses a `sigmoid` last-layer activation).\n",
      "  warnings.warn('`model.predict_classes()` is deprecated and '\n"
     ]
    }
   ],
   "source": [
    "predected_labels = m.predict_classes(np.array(X))"
   ]
  },
  {
   "cell_type": "code",
   "execution_count": 28,
   "metadata": {
    "id": "0X9iE_XX1DHd"
   },
   "outputs": [],
   "source": [
    "predictions_test = label_encoder.inverse_transform(predected_labels)"
   ]
  },
  {
   "cell_type": "code",
   "execution_count": 29,
   "metadata": {
    "id": "SCBacWw00fzq"
   },
   "outputs": [],
   "source": [
    "data = {'Image Name':imageNames,'Real lables':Y,'Predected Labels':predictions_test}\n",
    "\n",
    "df = pd.DataFrame(data)"
   ]
  },
  {
   "cell_type": "code",
   "execution_count": 30,
   "metadata": {
    "colab": {
     "base_uri": "https://localhost:8080/",
     "height": 417
    },
    "id": "U3ArzL_g1MtB",
    "outputId": "70aeb4bb-6cb6-4bea-f5d0-f3251f247e6f"
   },
   "outputs": [
    {
     "data": {
      "text/html": [
       "<div>\n",
       "<style scoped>\n",
       "    .dataframe tbody tr th:only-of-type {\n",
       "        vertical-align: middle;\n",
       "    }\n",
       "\n",
       "    .dataframe tbody tr th {\n",
       "        vertical-align: top;\n",
       "    }\n",
       "\n",
       "    .dataframe thead th {\n",
       "        text-align: right;\n",
       "    }\n",
       "</style>\n",
       "<table border=\"1\" class=\"dataframe\">\n",
       "  <thead>\n",
       "    <tr style=\"text-align: right;\">\n",
       "      <th></th>\n",
       "      <th>Image Name</th>\n",
       "      <th>Real lables</th>\n",
       "      <th>Predected Labels</th>\n",
       "    </tr>\n",
       "  </thead>\n",
       "  <tbody>\n",
       "    <tr>\n",
       "      <th>0</th>\n",
       "      <td>er - ER_076.TIF</td>\n",
       "      <td>er</td>\n",
       "      <td>er</td>\n",
       "    </tr>\n",
       "    <tr>\n",
       "      <th>1</th>\n",
       "      <td>microtubules - microtubules_002.tif</td>\n",
       "      <td>microtubules</td>\n",
       "      <td>microtubules</td>\n",
       "    </tr>\n",
       "    <tr>\n",
       "      <th>2</th>\n",
       "      <td>mitochondria - mitochondria_054.tif</td>\n",
       "      <td>mitochondria</td>\n",
       "      <td>mitochondria</td>\n",
       "    </tr>\n",
       "    <tr>\n",
       "      <th>3</th>\n",
       "      <td>endosome - endosome_073.tif</td>\n",
       "      <td>endosome</td>\n",
       "      <td>endosome</td>\n",
       "    </tr>\n",
       "    <tr>\n",
       "      <th>4</th>\n",
       "      <td>mitochondria - mitochondria_008.tif</td>\n",
       "      <td>mitochondria</td>\n",
       "      <td>microtubules</td>\n",
       "    </tr>\n",
       "    <tr>\n",
       "      <th>...</th>\n",
       "      <td>...</td>\n",
       "      <td>...</td>\n",
       "      <td>...</td>\n",
       "    </tr>\n",
       "    <tr>\n",
       "      <th>857</th>\n",
       "      <td>microtubules - microtubules_030.tif</td>\n",
       "      <td>microtubules</td>\n",
       "      <td>microtubules</td>\n",
       "    </tr>\n",
       "    <tr>\n",
       "      <th>858</th>\n",
       "      <td>nucleolus - nucleolus_023.tif</td>\n",
       "      <td>nucleolus</td>\n",
       "      <td>nucleolus</td>\n",
       "    </tr>\n",
       "    <tr>\n",
       "      <th>859</th>\n",
       "      <td>microtubules - microtubules_046.tif</td>\n",
       "      <td>microtubules</td>\n",
       "      <td>microtubules</td>\n",
       "    </tr>\n",
       "    <tr>\n",
       "      <th>860</th>\n",
       "      <td>nucleolus - nucleolus_027.tif</td>\n",
       "      <td>nucleolus</td>\n",
       "      <td>nucleolus</td>\n",
       "    </tr>\n",
       "    <tr>\n",
       "      <th>861</th>\n",
       "      <td>er - ER_066.TIF</td>\n",
       "      <td>er</td>\n",
       "      <td>er</td>\n",
       "    </tr>\n",
       "  </tbody>\n",
       "</table>\n",
       "<p>862 rows × 3 columns</p>\n",
       "</div>"
      ],
      "text/plain": [
       "                              Image Name   Real lables Predected Labels\n",
       "0                        er - ER_076.TIF            er               er\n",
       "1    microtubules - microtubules_002.tif  microtubules     microtubules\n",
       "2    mitochondria - mitochondria_054.tif  mitochondria     mitochondria\n",
       "3            endosome - endosome_073.tif      endosome         endosome\n",
       "4    mitochondria - mitochondria_008.tif  mitochondria     microtubules\n",
       "..                                   ...           ...              ...\n",
       "857  microtubules - microtubules_030.tif  microtubules     microtubules\n",
       "858        nucleolus - nucleolus_023.tif     nucleolus        nucleolus\n",
       "859  microtubules - microtubules_046.tif  microtubules     microtubules\n",
       "860        nucleolus - nucleolus_027.tif     nucleolus        nucleolus\n",
       "861                      er - ER_066.TIF            er               er\n",
       "\n",
       "[862 rows x 3 columns]"
      ]
     },
     "execution_count": 30,
     "metadata": {
      "tags": []
     },
     "output_type": "execute_result"
    }
   ],
   "source": [
    "df"
   ]
  },
  {
   "cell_type": "code",
   "execution_count": 31,
   "metadata": {
    "id": "76OqjlFs1NRL"
   },
   "outputs": [],
   "source": [
    "df.to_csv('Predections_Keras_Cells_91.csv')"
   ]
  },
  {
   "cell_type": "code",
   "execution_count": null,
   "metadata": {
    "id": "SnWFHFSFG-TU"
   },
   "outputs": [],
   "source": [
    "history.history"
   ]
  },
  {
   "cell_type": "code",
   "execution_count": 35,
   "metadata": {
    "colab": {
     "base_uri": "https://localhost:8080/",
     "height": 295
    },
    "id": "UGr9K1T91Y-C",
    "outputId": "f86d3c1c-c2d5-4608-88bd-c0e5fa6ab832"
   },
   "outputs": [
    {
     "data": {
      "image/png": "[encoded data removed]",
      "text/plain": [
       "<Figure size 432x288 with 1 Axes>"
      ]
     },
     "metadata": {
      "needs_background": "light",
      "tags": []
     },
     "output_type": "display_data"
    }
   ],
   "source": [
    "plt.plot(history.history['accuracy'])\n",
    "plt.plot(history.history['val_accuracy'])\n",
    "plt.title('model accuracy')\n",
    "plt.ylabel('accuracy')\n",
    "plt.xlabel('epoch')\n",
    "plt.legend(['train', 'val'], loc='upper left')\n",
    "plt.show()"
   ]
  },
  {
   "cell_type": "code",
   "execution_count": 36,
   "metadata": {
    "colab": {
     "base_uri": "https://localhost:8080/",
     "height": 295
    },
    "id": "nUmyQq5oG7pg",
    "outputId": "0c7999d4-6f7b-4904-d424-2e21cf86ad1a"
   },
   "outputs": [
    {
     "data": {
      "image/png": "[encoded data removed]",
      "text/plain": [
       "<Figure size 432x288 with 1 Axes>"
      ]
     },
     "metadata": {
      "needs_background": "light",
      "tags": []
     },
     "output_type": "display_data"
    }
   ],
   "source": [
    "plt.plot(history.history['loss'])\n",
    "plt.plot(history.history['val_loss'])\n",
    "plt.title('model loss')\n",
    "plt.ylabel('loss')\n",
    "plt.xlabel('epoch')\n",
    "plt.legend(['train', 'val'], loc='upper left')\n",
    "plt.show()"
   ]
  },
  {
   "cell_type": "code",
   "execution_count": null,
   "metadata": {
    "id": "H-DPLQHwHQud"
   },
   "outputs": [],
   "source": []
  }
 ],
 "metadata": {
  "accelerator": "GPU",
  "colab": {
   "collapsed_sections": [],
   "name": "Pattern_Project_2_Cells.ipynb",
   "provenance": [],
   "toc_visible": true
  },
  "kernelspec": {
   "display_name": "Python 3",
   "language": "python",
   "name": "python3"
  },
  "language_info": {
   "codemirror_mode": {
    "name": "ipython",
    "version": 3
   },
   "file_extension": ".py",
   "mimetype": "text/x-python",
   "name": "python",
   "nbconvert_exporter": "python",
   "pygments_lexer": "ipython3",
   "version": "3.7.6"
  }
 },
 "nbformat": 4,
 "nbformat_minor": 1
}
