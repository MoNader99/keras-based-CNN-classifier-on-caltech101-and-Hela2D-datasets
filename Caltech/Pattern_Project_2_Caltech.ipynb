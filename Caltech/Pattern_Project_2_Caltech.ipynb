{
 "cells": [
  {
   "cell_type": "code",
   "execution_count": 1,
   "metadata": {
    "id": "RmcePvBpCIUF"
   },
   "outputs": [],
   "source": [
    "from skimage import io\n",
    "from skimage.transform import resize\n",
    "import math \n",
    "import pickle \n",
    "from sklearn.model_selection import train_test_split\n",
    "from sklearn.preprocessing import  OneHotEncoder\n",
    "import matplotlib.pyplot as plt\n",
    "import numpy as np\n",
    "import pandas as pd\n",
    "import random\n",
    "from os import listdir, path, makedirs\n",
    "import cv2 \n",
    "import os\n",
    "\n",
    "from sklearn.preprocessing import LabelEncoder\n",
    "from tensorflow.keras.utils import to_categorical"
   ]
  },
  {
   "cell_type": "code",
   "execution_count": 2,
   "metadata": {
    "colab": {
     "base_uri": "https://localhost:8080/"
    },
    "id": "Uo5myEupplLi",
    "outputId": "39205b14-981c-48d8-ce62-db13264080e8"
   },
   "outputs": [
    {
     "name": "stdout",
     "output_type": "stream",
     "text": [
      "Mounted at /content/gdrive\n"
     ]
    }
   ],
   "source": [
    "# mount the drive to get data\n",
    "\n",
    "from google.colab import drive\n",
    "drive.mount('/content/gdrive')"
   ]
  },
  {
   "cell_type": "code",
   "execution_count": 3,
   "metadata": {
    "id": "migB9NXt7idY"
   },
   "outputs": [],
   "source": [
    "def load_images_from_folder(folder,label):\n",
    "    images = []\n",
    "    labels = []\n",
    "    imageNames = []\n",
    "    for filename in os.listdir(folder):\n",
    "        if '.jpg' in filename or '.JPG' in filename:\n",
    "            # img = io.imread(os.path.join(folder,filename)) /255 \n",
    "            img = cv2.imread(os.path.join(folder,filename))\n",
    "            img = cv2.resize(cv2.cvtColor(img, cv2.COLOR_BGR2RGB), (100,100), interpolation = cv2.INTER_AREA)\n",
    "            img = img/255\n",
    "            if img is not None:\n",
    "                images.append(img)\n",
    "                labels.append(label)\n",
    "                imageNames.append(filename)\n",
    "    return np.array(images),np.array(labels),imageNames"
   ]
  },
  {
   "cell_type": "code",
   "execution_count": 4,
   "metadata": {
    "id": "8MNqa2XZCz-Q"
   },
   "outputs": [],
   "source": [
    "data_dir = '/content/gdrive/MyDrive/dataset2'"
   ]
  },
  {
   "cell_type": "code",
   "execution_count": 5,
   "metadata": {
    "id": "3TJq9qzzC5DH"
   },
   "outputs": [],
   "source": [
    "folder_names = [f for f in listdir(data_dir)]"
   ]
  },
  {
   "cell_type": "code",
   "execution_count": 6,
   "metadata": {
    "colab": {
     "base_uri": "https://localhost:8080/"
    },
    "id": "4egxGEp0C9MY",
    "outputId": "a7d21bd6-6523-4720-c16f-654e809d7b8a"
   },
   "outputs": [
    {
     "name": "stdout",
     "output_type": "stream",
     "text": [
      "bonsai 128\n",
      "Motorbikes 798\n",
      "car_side 123\n",
      "airplanes 800\n",
      "sunflower 85\n",
      "laptop 81\n",
      "starfish 86\n",
      "watch 239\n",
      "Leopards 200\n",
      "brain 98\n"
     ]
    }
   ],
   "source": [
    "count_img = 0\n",
    "for folder in folder_names:\n",
    "    imgs = [img for img in listdir(path.join(data_dir, folder))]\n",
    "    count_img += len(imgs)\n",
    "    print(folder, len(imgs))"
   ]
  },
  {
   "cell_type": "code",
   "execution_count": 7,
   "metadata": {
    "id": "ZLkN16lGDCZw"
   },
   "outputs": [],
   "source": [
    "Airplanes,Airplane_labels,imagenames0         = load_images_from_folder(path.join(data_dir, 'airplanes'),'Airplane')\n",
    "Bonsai,Bonsai_labels,imagenames1              = load_images_from_folder(path.join(data_dir, 'bonsai'),'Bonsai')\n",
    "Brain,Brain_labels,imagenames2                = load_images_from_folder(path.join(data_dir, 'brain'),'Brain')\n",
    "Car_side,Car_side_labels,imagenames3          = load_images_from_folder(path.join(data_dir, 'car_side'),'Car-side')\n",
    "Laptop,Laptop_labels,imagenames4              = load_images_from_folder(path.join(data_dir, 'laptop'),'Laptop')\n",
    "Leopards,Leopards_labels,imagenames5          = load_images_from_folder(path.join(data_dir, 'Leopards'),'Leopards')\n",
    "Motorbikes,Motorbike_labels,imagenames6       = load_images_from_folder(path.join(data_dir, 'Motorbikes'),'Motorbike')\n",
    "Starfish,Starfish_labels,imagenames7          = load_images_from_folder(path.join(data_dir, 'starfish'),'Starfish')\n",
    "Sunflower,Sunflower_labels,imagenames8        = load_images_from_folder(path.join(data_dir, 'sunflower'),'Sunflower')\n",
    "Watch,Watch_labels,imagenames9                = load_images_from_folder(path.join(data_dir, 'watch'),'Watch')"
   ]
  },
  {
   "cell_type": "code",
   "execution_count": 8,
   "metadata": {
    "id": "IhvZxXjDFUHv"
   },
   "outputs": [],
   "source": [
    "X = []\n",
    "Y = []\n",
    "imageNames = [] \n",
    "\n",
    "\n",
    "for i in range(len(Airplanes)):\n",
    "    X.append(Airplanes[i])\n",
    "    Y.append(Airplane_labels[i])\n",
    "    imageNames.append('Airplanes - ' + imagenames0[i])\n",
    "\n",
    "for i in range(len(Bonsai)):\n",
    "    X.append(Bonsai[i])\n",
    "    Y.append(Bonsai_labels[i])\n",
    "    imageNames.append('Bonsai - ' + imagenames1[i])\n",
    "\n",
    "for i in range(len(Brain)):\n",
    "    X.append(Brain[i])\n",
    "    Y.append(Brain_labels[i])\n",
    "    imageNames.append('Brain - ' + imagenames2[i])\n",
    "\n",
    "for i in range(len(Car_side)):\n",
    "    X.append(Car_side[i])\n",
    "    Y.append(Car_side_labels[i])\n",
    "    imageNames.append('Car_side - ' + imagenames3[i])\n",
    "\n",
    "for i in range(len(Laptop)):\n",
    "    X.append(Laptop[i])\n",
    "    Y.append(Laptop_labels[i])\n",
    "    imageNames.append('Laptop - ' + imagenames4[i])\n",
    "\n",
    "for i in range(len(Leopards)):\n",
    "    X.append(Leopards[i])\n",
    "    Y.append(Leopards_labels[i])\n",
    "    imageNames.append('Leopards - ' + imagenames5[i])\n",
    "\n",
    "for i in range(len(Motorbikes)):\n",
    "    X.append(Motorbikes[i])\n",
    "    Y.append(Motorbike_labels[i])\n",
    "    imageNames.append('Motorbike - ' + imagenames6[i])\n",
    "\n",
    "for i in range(len(Starfish)):\n",
    "    X.append(Starfish[i])\n",
    "    Y.append(Starfish_labels[i])\n",
    "    imageNames.append('Starfish - ' + imagenames7[i])\n",
    "\n",
    "for i in range(len(Sunflower)):\n",
    "    X.append(Sunflower[i])\n",
    "    Y.append(Sunflower_labels[i])\n",
    "    imageNames.append('Sunflower - ' + imagenames8[i])\n",
    "\n",
    "for i in range(len(Watch)):\n",
    "    X.append(Watch[i])\n",
    "    Y.append(Watch_labels[i])\n",
    "    imageNames.append('Watch - ' + imagenames9[i])\n"
   ]
  },
  {
   "cell_type": "code",
   "execution_count": 10,
   "metadata": {
    "id": "I59RbCroggTj"
   },
   "outputs": [],
   "source": [
    "# X = X.reshape(X.shape[0], X.shape[1], X.shape[2], 3)\n",
    "\n",
    "temp = list(zip(X, Y,imageNames))\n",
    "random.shuffle(temp)\n",
    "X, Y,imageNames = zip(*temp)\n",
    "del temp\n",
    "X = np.array(X,dtype=float)\n",
    "Y = np.array(Y)"
   ]
  },
  {
   "cell_type": "code",
   "execution_count": 11,
   "metadata": {
    "colab": {
     "base_uri": "https://localhost:8080/"
    },
    "id": "KZUYMZZUm1kJ",
    "outputId": "ee3f608e-6849-4d7a-917f-898af5bc8273"
   },
   "outputs": [
    {
     "data": {
      "text/plain": [
       "array([6, 0, 0, ..., 7, 6, 6])"
      ]
     },
     "execution_count": 11,
     "metadata": {
      "tags": []
     },
     "output_type": "execute_result"
    }
   ],
   "source": [
    "label_encoder = LabelEncoder()\n",
    "Y_integer_encoded = label_encoder.fit_transform(Y)\n",
    "Y_integer_encoded"
   ]
  },
  {
   "cell_type": "code",
   "execution_count": 12,
   "metadata": {
    "colab": {
     "base_uri": "https://localhost:8080/",
     "height": 303
    },
    "id": "QGDUNHZQDMzs",
    "outputId": "3abd1d7f-28f9-4f11-8c67-617c94a6a4cd"
   },
   "outputs": [
    {
     "data": {
      "image/png": "[encoded data removed]",
      "text/plain": [
       "<Figure size 432x288 with 1 Axes>"
      ]
     },
     "metadata": {
      "needs_background": "light",
      "tags": []
     },
     "output_type": "display_data"
    },
    {
     "name": "stdout",
     "output_type": "stream",
     "text": [
      "Motorbike\n",
      "Motorbike - image_0787.jpg\n"
     ]
    }
   ],
   "source": [
    "plt.imshow(X[10])\n",
    "plt.show()\n",
    "\n",
    "print(Y[10])\n",
    "print(imageNames[10])"
   ]
  },
  {
   "cell_type": "code",
   "execution_count": 13,
   "metadata": {
    "colab": {
     "base_uri": "https://localhost:8080/"
    },
    "id": "JJpsSvpqECvE",
    "outputId": "b0fa7b30-6567-44f2-bdea-360c6d11cbae"
   },
   "outputs": [
    {
     "data": {
      "text/plain": [
       "(2638, 100, 100, 3)"
      ]
     },
     "execution_count": 13,
     "metadata": {
      "tags": []
     },
     "output_type": "execute_result"
    }
   ],
   "source": [
    "X.shape"
   ]
  },
  {
   "cell_type": "code",
   "execution_count": 14,
   "metadata": {
    "colab": {
     "base_uri": "https://localhost:8080/"
    },
    "id": "-yR571uqEET_",
    "outputId": "1278806e-a8b3-43b6-b4ce-62d8c47c1e16"
   },
   "outputs": [
    {
     "data": {
      "text/plain": [
       "(2638,)"
      ]
     },
     "execution_count": 14,
     "metadata": {
      "tags": []
     },
     "output_type": "execute_result"
    }
   ],
   "source": [
    "Y.shape"
   ]
  },
  {
   "cell_type": "code",
   "execution_count": 15,
   "metadata": {
    "colab": {
     "base_uri": "https://localhost:8080/"
    },
    "id": "l7yJYRyqEJdo",
    "outputId": "b0d05c94-c6f2-435e-9a9a-0ae61fd039ab"
   },
   "outputs": [
    {
     "data": {
      "text/plain": [
       "2638"
      ]
     },
     "execution_count": 15,
     "metadata": {
      "tags": []
     },
     "output_type": "execute_result"
    }
   ],
   "source": [
    "len(imageNames)"
   ]
  },
  {
   "cell_type": "code",
   "execution_count": 79,
   "metadata": {
    "id": "aD6UNOcENSCf"
   },
   "outputs": [],
   "source": [
    "X_train, X_test, y_train, y_test = train_test_split(X, Y_integer_encoded, test_size=0.15)\n",
    "X_train, X_val, y_train, y_val = train_test_split(X_train, y_train, test_size=0.18)"
   ]
  },
  {
   "cell_type": "markdown",
   "metadata": {
    "id": "EZVKczbTooMX"
   },
   "source": [
    "# Bulid The Model "
   ]
  },
  {
   "cell_type": "code",
   "execution_count": 80,
   "metadata": {
    "id": "rj0KAosgpc49"
   },
   "outputs": [],
   "source": [
    "import keras\n",
    "from keras.models import Sequential\n",
    "from keras.layers import Dense, Dropout, Flatten, Activation\n",
    "from keras.layers import Conv2D, MaxPooling2D"
   ]
  },
  {
   "cell_type": "code",
   "execution_count": 93,
   "metadata": {
    "id": "RNeuR-zKmveY"
   },
   "outputs": [],
   "source": [
    "def buildModel():\n",
    "    model = Sequential()\n",
    "\n",
    "    model.add(Conv2D(32, (3, 3), activation='relu', input_shape=(100, 100, 3)))\n",
    "    model.add(Conv2D(32, (3, 3), activation='relu'))\n",
    "    model.add(MaxPooling2D(pool_size=(2, 2)))\n",
    "    model.add(Dropout(0.25))\n",
    "\n",
    "    model.add(Conv2D(64, (3, 3), activation='relu'))\n",
    "    model.add(Conv2D(64, (3, 3), activation='relu'))\n",
    "    model.add(MaxPooling2D(pool_size=(2, 2)))\n",
    "\n",
    "    model.add(Dropout(0.8))\n",
    "\n",
    "    model.add(Flatten())\n",
    "\n",
    "    model.add(Dense(512, activation='relu'))\n",
    "    model.add(Dense(10, activation='softmax'))\n",
    "\n",
    "    # sgd = SGD(lr=0.01, decay=1e-6, momentum=0.9, nesterov=True)\n",
    "    model.compile(loss='sparse_categorical_crossentropy', optimizer='adam',metrics=['accuracy'])\n",
    "    model.summary()\n",
    "    return model"
   ]
  },
  {
   "cell_type": "code",
   "execution_count": 94,
   "metadata": {
    "colab": {
     "base_uri": "https://localhost:8080/"
    },
    "id": "RPzWY1YQpFEW",
    "outputId": "e12a1d17-87b8-4dbf-eb17-3b4d71c73d6e"
   },
   "outputs": [
    {
     "name": "stdout",
     "output_type": "stream",
     "text": [
      "Model: \"sequential_12\"\n",
      "_________________________________________________________________\n",
      "Layer (type)                 Output Shape              Param #   \n",
      "=================================================================\n",
      "conv2d_50 (Conv2D)           (None, 98, 98, 32)        896       \n",
      "_________________________________________________________________\n",
      "conv2d_51 (Conv2D)           (None, 96, 96, 32)        9248      \n",
      "_________________________________________________________________\n",
      "max_pooling2d_25 (MaxPooling (None, 48, 48, 32)        0         \n",
      "_________________________________________________________________\n",
      "dropout_25 (Dropout)         (None, 48, 48, 32)        0         \n",
      "_________________________________________________________________\n",
      "conv2d_52 (Conv2D)           (None, 46, 46, 64)        18496     \n",
      "_________________________________________________________________\n",
      "conv2d_53 (Conv2D)           (None, 44, 44, 64)        36928     \n",
      "_________________________________________________________________\n",
      "max_pooling2d_26 (MaxPooling (None, 22, 22, 64)        0         \n",
      "_________________________________________________________________\n",
      "dropout_26 (Dropout)         (None, 22, 22, 64)        0         \n",
      "_________________________________________________________________\n",
      "flatten_12 (Flatten)         (None, 30976)             0         \n",
      "_________________________________________________________________\n",
      "dense_24 (Dense)             (None, 512)               15860224  \n",
      "_________________________________________________________________\n",
      "dense_25 (Dense)             (None, 10)                5130      \n",
      "=================================================================\n",
      "Total params: 15,930,922\n",
      "Trainable params: 15,930,922\n",
      "Non-trainable params: 0\n",
      "_________________________________________________________________\n"
     ]
    }
   ],
   "source": [
    "model = buildModel()"
   ]
  },
  {
   "cell_type": "code",
   "execution_count": 95,
   "metadata": {
    "colab": {
     "base_uri": "https://localhost:8080/"
    },
    "id": "nM9v8-D-pWVY",
    "outputId": "a3a346f7-a8c7-44b1-f9fc-1f172b7ca71b"
   },
   "outputs": [
    {
     "name": "stdout",
     "output_type": "stream",
     "text": [
      "Epoch 1/15\n",
      "29/29 [==============================] - 4s 112ms/step - loss: 2.1496 - accuracy: 0.2858 - val_loss: 1.6805 - val_accuracy: 0.5668\n",
      "\n",
      "Epoch 00001: val_accuracy improved from -inf to 0.56683, saving model to /content/Caltech_Model.h5\n",
      "Epoch 2/15\n",
      "29/29 [==============================] - 2s 86ms/step - loss: 1.2977 - accuracy: 0.6001 - val_loss: 1.1186 - val_accuracy: 0.5743\n",
      "\n",
      "Epoch 00002: val_accuracy improved from 0.56683 to 0.57426, saving model to /content/Caltech_Model.h5\n",
      "Epoch 3/15\n",
      "29/29 [==============================] - 3s 87ms/step - loss: 0.6438 - accuracy: 0.7912 - val_loss: 0.4955 - val_accuracy: 0.8342\n",
      "\n",
      "Epoch 00003: val_accuracy improved from 0.57426 to 0.83416, saving model to /content/Caltech_Model.h5\n",
      "Epoch 4/15\n",
      "29/29 [==============================] - 2s 86ms/step - loss: 0.4549 - accuracy: 0.8570 - val_loss: 0.4392 - val_accuracy: 0.8589\n",
      "\n",
      "Epoch 00004: val_accuracy improved from 0.83416 to 0.85891, saving model to /content/Caltech_Model.h5\n",
      "Epoch 5/15\n",
      "29/29 [==============================] - 3s 87ms/step - loss: 0.2833 - accuracy: 0.9022 - val_loss: 0.3429 - val_accuracy: 0.9010\n",
      "\n",
      "Epoch 00005: val_accuracy improved from 0.85891 to 0.90099, saving model to /content/Caltech_Model.h5\n",
      "Epoch 6/15\n",
      "29/29 [==============================] - 2s 86ms/step - loss: 0.2053 - accuracy: 0.9384 - val_loss: 0.2859 - val_accuracy: 0.9233\n",
      "\n",
      "Epoch 00006: val_accuracy improved from 0.90099 to 0.92327, saving model to /content/Caltech_Model.h5\n",
      "Epoch 7/15\n",
      "29/29 [==============================] - 3s 87ms/step - loss: 0.1907 - accuracy: 0.9425 - val_loss: 0.3460 - val_accuracy: 0.9134\n",
      "\n",
      "Epoch 00007: val_accuracy did not improve from 0.92327\n",
      "Epoch 8/15\n",
      "29/29 [==============================] - 3s 87ms/step - loss: 0.1961 - accuracy: 0.9320 - val_loss: 0.2977 - val_accuracy: 0.9233\n",
      "\n",
      "Epoch 00008: val_accuracy did not improve from 0.92327\n",
      "Epoch 9/15\n",
      "29/29 [==============================] - 2s 86ms/step - loss: 0.0916 - accuracy: 0.9662 - val_loss: 0.3459 - val_accuracy: 0.9084\n",
      "\n",
      "Epoch 00009: val_accuracy did not improve from 0.92327\n",
      "Epoch 10/15\n",
      "29/29 [==============================] - 2s 86ms/step - loss: 0.0953 - accuracy: 0.9647 - val_loss: 0.2817 - val_accuracy: 0.9381\n",
      "\n",
      "Epoch 00010: val_accuracy improved from 0.92327 to 0.93812, saving model to /content/Caltech_Model.h5\n",
      "Epoch 11/15\n",
      "29/29 [==============================] - 2s 86ms/step - loss: 0.0580 - accuracy: 0.9832 - val_loss: 0.3279 - val_accuracy: 0.9134\n",
      "\n",
      "Epoch 00011: val_accuracy did not improve from 0.93812\n",
      "Epoch 12/15\n",
      "29/29 [==============================] - 2s 86ms/step - loss: 0.0772 - accuracy: 0.9780 - val_loss: 0.3634 - val_accuracy: 0.9035\n",
      "\n",
      "Epoch 00012: val_accuracy did not improve from 0.93812\n",
      "Epoch 13/15\n",
      "29/29 [==============================] - 2s 86ms/step - loss: 0.0623 - accuracy: 0.9808 - val_loss: 0.3254 - val_accuracy: 0.9183\n",
      "\n",
      "Epoch 00013: val_accuracy did not improve from 0.93812\n",
      "Epoch 14/15\n",
      "29/29 [==============================] - 3s 91ms/step - loss: 0.0589 - accuracy: 0.9774 - val_loss: 0.3641 - val_accuracy: 0.9158\n",
      "\n",
      "Epoch 00014: val_accuracy did not improve from 0.93812\n",
      "Epoch 15/15\n",
      "29/29 [==============================] - 3s 91ms/step - loss: 0.0480 - accuracy: 0.9847 - val_loss: 0.2994 - val_accuracy: 0.9356\n",
      "\n",
      "Epoch 00015: val_accuracy did not improve from 0.93812\n"
     ]
    }
   ],
   "source": [
    "call = [keras.callbacks.ModelCheckpoint('/content/Caltech_Model.h5', monitor='val_accuracy', verbose=1, save_best_only=True, mode='max')]\n",
    "history = model.fit(X_train, y_train, epochs = 15, validation_data= (X_val, y_val), batch_size= 64,shuffle=True ,callbacks = call)"
   ]
  },
  {
   "cell_type": "code",
   "execution_count": 96,
   "metadata": {
    "colab": {
     "base_uri": "https://localhost:8080/"
    },
    "id": "QPrBDcIjpzDa",
    "outputId": "d7b95ac0-38aa-4790-f8c5-7b23efe2d583"
   },
   "outputs": [
    {
     "name": "stdout",
     "output_type": "stream",
     "text": [
      "13/13 [==============================] - 0s 21ms/step - loss: 0.3379 - accuracy: 0.9419\n",
      "13/13 [==============================] - 1s 19ms/step - loss: 0.3001 - accuracy: 0.9242\n"
     ]
    },
    {
     "data": {
      "text/plain": [
       "[0.3001399636268616, 0.9242424368858337]"
      ]
     },
     "execution_count": 96,
     "metadata": {
      "tags": []
     },
     "output_type": "execute_result"
    }
   ],
   "source": [
    "results = model.evaluate(X_test, y_test)\n",
    "\n",
    "m2 = keras.models.load_model('Caltech_Model.h5')\n",
    "\n",
    "m2.evaluate(X_test, y_test)"
   ]
  },
  {
   "cell_type": "code",
   "execution_count": 97,
   "metadata": {
    "colab": {
     "base_uri": "https://localhost:8080/"
    },
    "id": "DGbvJ1yCuV0s",
    "outputId": "9d035ea2-b2a4-46c5-d06f-c04d3193dd1b"
   },
   "outputs": [
    {
     "name": "stdout",
     "output_type": "stream",
     "text": [
      "INFO:tensorflow:Assets written to: my_model_caltech/assets\n"
     ]
    }
   ],
   "source": [
    "model.save(\"my_model_caltech\")"
   ]
  },
  {
   "cell_type": "code",
   "execution_count": 98,
   "metadata": {
    "id": "Xy6RZWKiz8By"
   },
   "outputs": [],
   "source": [
    "m = keras.models.load_model('my_model_caltech')"
   ]
  },
  {
   "cell_type": "code",
   "execution_count": 99,
   "metadata": {
    "colab": {
     "base_uri": "https://localhost:8080/"
    },
    "id": "uhkg93Phz9sq",
    "outputId": "2ebaf681-523b-4123-dadb-586b7ae31d65"
   },
   "outputs": [
    {
     "name": "stdout",
     "output_type": "stream",
     "text": [
      "  adding: content/my_model_caltech/ (stored 0%)\n",
      "  adding: content/my_model_caltech/assets/ (stored 0%)\n",
      "  adding: content/my_model_caltech/variables/ (stored 0%)\n",
      "  adding: content/my_model_caltech/variables/variables.data-00000-of-00001 (deflated 9%)\n",
      "  adding: content/my_model_caltech/variables/variables.index (deflated 68%)\n",
      "  adding: content/my_model_caltech/saved_model.pb (deflated 89%)\n",
      "  adding: content/my_model_caltech/keras_metadata.pb (deflated 92%)\n"
     ]
    }
   ],
   "source": [
    "!zip -r /content/my_model.zip /content/my_model_caltech"
   ]
  },
  {
   "cell_type": "code",
   "execution_count": 100,
   "metadata": {
    "colab": {
     "base_uri": "https://localhost:8080/"
    },
    "id": "Vnk9ipc-0Gqp",
    "outputId": "b48b554f-c950-4c15-9bd9-7bbdc256dbae"
   },
   "outputs": [
    {
     "name": "stderr",
     "output_type": "stream",
     "text": [
      "/usr/local/lib/python3.7/dist-packages/keras/engine/sequential.py:450: UserWarning: `model.predict_classes()` is deprecated and will be removed after 2021-01-01. Please use instead:* `np.argmax(model.predict(x), axis=-1)`,   if your model does multi-class classification   (e.g. if it uses a `softmax` last-layer activation).* `(model.predict(x) > 0.5).astype(\"int32\")`,   if your model does binary classification   (e.g. if it uses a `sigmoid` last-layer activation).\n",
      "  warnings.warn('`model.predict_classes()` is deprecated and '\n"
     ]
    }
   ],
   "source": [
    "predected_labels = m.predict_classes(np.array(X))"
   ]
  },
  {
   "cell_type": "code",
   "execution_count": 101,
   "metadata": {
    "id": "0X9iE_XX1DHd"
   },
   "outputs": [],
   "source": [
    "predictions_test = label_encoder.inverse_transform(predected_labels)"
   ]
  },
  {
   "cell_type": "code",
   "execution_count": 102,
   "metadata": {
    "id": "SCBacWw00fzq"
   },
   "outputs": [],
   "source": [
    "data = {'Image Name':imageNames,'Real lables':Y,'Predected Labels':predictions_test}\n",
    "\n",
    "df = pd.DataFrame(data)"
   ]
  },
  {
   "cell_type": "code",
   "execution_count": 103,
   "metadata": {
    "colab": {
     "base_uri": "https://localhost:8080/",
     "height": 417
    },
    "id": "U3ArzL_g1MtB",
    "outputId": "d386cef8-ba02-41a7-a9a3-86d08136d12a"
   },
   "outputs": [
    {
     "data": {
      "text/html": [
       "<div>\n",
       "<style scoped>\n",
       "    .dataframe tbody tr th:only-of-type {\n",
       "        vertical-align: middle;\n",
       "    }\n",
       "\n",
       "    .dataframe tbody tr th {\n",
       "        vertical-align: top;\n",
       "    }\n",
       "\n",
       "    .dataframe thead th {\n",
       "        text-align: right;\n",
       "    }\n",
       "</style>\n",
       "<table border=\"1\" class=\"dataframe\">\n",
       "  <thead>\n",
       "    <tr style=\"text-align: right;\">\n",
       "      <th></th>\n",
       "      <th>Image Name</th>\n",
       "      <th>Real lables</th>\n",
       "      <th>Predected Labels</th>\n",
       "    </tr>\n",
       "  </thead>\n",
       "  <tbody>\n",
       "    <tr>\n",
       "      <th>0</th>\n",
       "      <td>Motorbike - image_0223.jpg</td>\n",
       "      <td>Motorbike</td>\n",
       "      <td>Motorbike</td>\n",
       "    </tr>\n",
       "    <tr>\n",
       "      <th>1</th>\n",
       "      <td>Airplanes - image_0109.jpg</td>\n",
       "      <td>Airplane</td>\n",
       "      <td>Airplane</td>\n",
       "    </tr>\n",
       "    <tr>\n",
       "      <th>2</th>\n",
       "      <td>Airplanes - image_0153.jpg</td>\n",
       "      <td>Airplane</td>\n",
       "      <td>Airplane</td>\n",
       "    </tr>\n",
       "    <tr>\n",
       "      <th>3</th>\n",
       "      <td>Brain - image_0025.jpg</td>\n",
       "      <td>Brain</td>\n",
       "      <td>Brain</td>\n",
       "    </tr>\n",
       "    <tr>\n",
       "      <th>4</th>\n",
       "      <td>Sunflower - image_0024.jpg</td>\n",
       "      <td>Sunflower</td>\n",
       "      <td>Sunflower</td>\n",
       "    </tr>\n",
       "    <tr>\n",
       "      <th>...</th>\n",
       "      <td>...</td>\n",
       "      <td>...</td>\n",
       "      <td>...</td>\n",
       "    </tr>\n",
       "    <tr>\n",
       "      <th>2633</th>\n",
       "      <td>Airplanes - image_0028.jpg</td>\n",
       "      <td>Airplane</td>\n",
       "      <td>Airplane</td>\n",
       "    </tr>\n",
       "    <tr>\n",
       "      <th>2634</th>\n",
       "      <td>Airplanes - image_0116.jpg</td>\n",
       "      <td>Airplane</td>\n",
       "      <td>Airplane</td>\n",
       "    </tr>\n",
       "    <tr>\n",
       "      <th>2635</th>\n",
       "      <td>Starfish - image_0047.jpg</td>\n",
       "      <td>Starfish</td>\n",
       "      <td>Starfish</td>\n",
       "    </tr>\n",
       "    <tr>\n",
       "      <th>2636</th>\n",
       "      <td>Motorbike - image_0062.jpg</td>\n",
       "      <td>Motorbike</td>\n",
       "      <td>Motorbike</td>\n",
       "    </tr>\n",
       "    <tr>\n",
       "      <th>2637</th>\n",
       "      <td>Motorbike - image_0301.jpg</td>\n",
       "      <td>Motorbike</td>\n",
       "      <td>Motorbike</td>\n",
       "    </tr>\n",
       "  </tbody>\n",
       "</table>\n",
       "<p>2638 rows × 3 columns</p>\n",
       "</div>"
      ],
      "text/plain": [
       "                      Image Name Real lables Predected Labels\n",
       "0     Motorbike - image_0223.jpg   Motorbike        Motorbike\n",
       "1     Airplanes - image_0109.jpg    Airplane         Airplane\n",
       "2     Airplanes - image_0153.jpg    Airplane         Airplane\n",
       "3         Brain - image_0025.jpg       Brain            Brain\n",
       "4     Sunflower - image_0024.jpg   Sunflower        Sunflower\n",
       "...                          ...         ...              ...\n",
       "2633  Airplanes - image_0028.jpg    Airplane         Airplane\n",
       "2634  Airplanes - image_0116.jpg    Airplane         Airplane\n",
       "2635   Starfish - image_0047.jpg    Starfish         Starfish\n",
       "2636  Motorbike - image_0062.jpg   Motorbike        Motorbike\n",
       "2637  Motorbike - image_0301.jpg   Motorbike        Motorbike\n",
       "\n",
       "[2638 rows x 3 columns]"
      ]
     },
     "execution_count": 103,
     "metadata": {
      "tags": []
     },
     "output_type": "execute_result"
    }
   ],
   "source": [
    "df"
   ]
  },
  {
   "cell_type": "code",
   "execution_count": 108,
   "metadata": {
    "id": "w09LM-dESjAf"
   },
   "outputs": [],
   "source": [
    "from sklearn.metrics import classification_report, confusion_matrix , accuracy_score\n",
    "\n",
    "labels = ['bonsai','Motorbikes','car_side','airplanes','sunflower','laptop','starfish','watch','Leopards','brain']\n",
    "\n",
    "callsReport = classification_report(Y_integer_encoded, predected_labels, target_names=labels)"
   ]
  },
  {
   "cell_type": "code",
   "execution_count": 110,
   "metadata": {
    "colab": {
     "base_uri": "https://localhost:8080/"
    },
    "id": "feC6B9xmYM6O",
    "outputId": "8db830d0-9701-439a-94fb-012ed056f180"
   },
   "outputs": [
    {
     "name": "stdout",
     "output_type": "stream",
     "text": [
      "              precision    recall  f1-score   support\n",
      "\n",
      "      bonsai       0.99      1.00      0.99       800\n",
      "  Motorbikes       0.98      0.95      0.96       128\n",
      "    car_side       0.97      0.90      0.93        98\n",
      "   airplanes       0.96      0.98      0.97       123\n",
      "   sunflower       0.92      0.94      0.93        81\n",
      "      laptop       0.98      0.98      0.98       200\n",
      "    starfish       1.00      0.99      1.00       798\n",
      "       watch       0.91      0.98      0.94        86\n",
      "    Leopards       0.98      0.95      0.96        85\n",
      "       brain       0.96      0.97      0.97       239\n",
      "\n",
      "    accuracy                           0.98      2638\n",
      "   macro avg       0.96      0.96      0.96      2638\n",
      "weighted avg       0.98      0.98      0.98      2638\n",
      "\n"
     ]
    }
   ],
   "source": [
    "print(callsReport)"
   ]
  },
  {
   "cell_type": "code",
   "execution_count": 111,
   "metadata": {
    "id": "76OqjlFs1NRL"
   },
   "outputs": [],
   "source": [
    "df.to_csv('Predections_Keras_Caltech.csv')"
   ]
  },
  {
   "cell_type": "code",
   "execution_count": 112,
   "metadata": {
    "colab": {
     "base_uri": "https://localhost:8080/",
     "height": 295
    },
    "id": "UGr9K1T91Y-C",
    "outputId": "71fdfd86-c607-4c75-ed2d-be7a8bee331d"
   },
   "outputs": [
    {
     "data": {
      "image/png": "[encoded data removed]",
      "text/plain": [
       "<Figure size 432x288 with 1 Axes>"
      ]
     },
     "metadata": {
      "needs_background": "light",
      "tags": []
     },
     "output_type": "display_data"
    }
   ],
   "source": [
    "plt.plot(history.history['accuracy'])\n",
    "plt.plot(history.history['val_accuracy'])\n",
    "plt.title('model accuracy')\n",
    "plt.ylabel('accuracy')\n",
    "plt.xlabel('epoch')\n",
    "plt.legend(['train', 'val'], loc='upper left')\n",
    "plt.show()"
   ]
  },
  {
   "cell_type": "code",
   "execution_count": 113,
   "metadata": {
    "colab": {
     "base_uri": "https://localhost:8080/",
     "height": 295
    },
    "id": "oBLibpQFI2rR",
    "outputId": "d8bf405d-3d37-4c5b-ffdf-f31c8bf4fde8"
   },
   "outputs": [
    {
     "data": {
      "image/png": "[encoded data removed]",
      "text/plain": [
       "<Figure size 432x288 with 1 Axes>"
      ]
     },
     "metadata": {
      "needs_background": "light",
      "tags": []
     },
     "output_type": "display_data"
    }
   ],
   "source": [
    "plt.plot(history.history['loss'])\n",
    "plt.plot(history.history['val_loss'])\n",
    "plt.title('model loss')\n",
    "plt.ylabel('loss')\n",
    "plt.xlabel('epoch')\n",
    "plt.legend(['train', 'val'], loc='upper left')\n",
    "plt.show()"
   ]
  },
  {
   "cell_type": "code",
   "execution_count": null,
   "metadata": {
    "id": "YZO_h_LuYhpH"
   },
   "outputs": [],
   "source": []
  }
 ],
 "metadata": {
  "accelerator": "GPU",
  "colab": {
   "collapsed_sections": [],
   "name": "Pattern_Project_2_Caltech.ipynb",
   "provenance": [],
   "toc_visible": true
  },
  "kernelspec": {
   "display_name": "Python 3",
   "language": "python",
   "name": "python3"
  },
  "language_info": {
   "codemirror_mode": {
    "name": "ipython",
    "version": 3
   },
   "file_extension": ".py",
   "mimetype": "text/x-python",
   "name": "python",
   "nbconvert_exporter": "python",
   "pygments_lexer": "ipython3",
   "version": "3.7.6"
  }
 },
 "nbformat": 4,
 "nbformat_minor": 1
}
