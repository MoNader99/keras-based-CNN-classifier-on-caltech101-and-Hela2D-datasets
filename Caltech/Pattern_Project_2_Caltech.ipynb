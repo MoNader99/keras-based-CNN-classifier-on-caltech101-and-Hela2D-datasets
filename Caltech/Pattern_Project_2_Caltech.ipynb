{
  "nbformat": 4,
  "nbformat_minor": 0,
  "metadata": {
    "colab": {
      "name": "Pattern_Project_2_Caltech.ipynb",
      "provenance": [],
      "collapsed_sections": []
    },
    "kernelspec": {
      "name": "python3",
      "display_name": "Python 3"
    },
    "language_info": {
      "name": "python"
    },
    "accelerator": "GPU"
  },
  "cells": [
    {
      "cell_type": "code",
      "metadata": {
        "id": "RmcePvBpCIUF"
      },
      "source": [
        "from skimage import io\n",
        "from skimage.transform import resize\n",
        "import math \n",
        "import pickle \n",
        "from sklearn.model_selection import train_test_split\n",
        "from sklearn.preprocessing import  OneHotEncoder\n",
        "import matplotlib.pyplot as plt\n",
        "import numpy as np\n",
        "import pandas as pd\n",
        "import random\n",
        "from os import listdir, path, makedirs\n",
        "import cv2 \n",
        "import os\n",
        "\n",
        "from sklearn.preprocessing import LabelEncoder\n",
        "from tensorflow.keras.utils import to_categorical"
      ],
      "execution_count": null,
      "outputs": []
    },
    {
      "cell_type": "code",
      "metadata": {
        "id": "Uo5myEupplLi",
        "colab": {
          "base_uri": "https://localhost:8080/"
        },
        "outputId": "b9b2956b-41ba-46e0-dc43-ad810f15c5b7"
      },
      "source": [
        "# mount the drive to get data\n",
        "\n",
        "from google.colab import drive\n",
        "drive.mount('/content/gdrive')"
      ],
      "execution_count": null,
      "outputs": [
        {
          "output_type": "stream",
          "text": [
            "Mounted at /content/gdrive\n"
          ],
          "name": "stdout"
        }
      ]
    },
    {
      "cell_type": "code",
      "metadata": {
        "id": "migB9NXt7idY"
      },
      "source": [
        "def load_images_from_folder(folder,label):\n",
        "    images = []\n",
        "    labels = []\n",
        "    imageNames = []\n",
        "    for filename in os.listdir(folder):\n",
        "        if '.jpg' in filename or '.JPG' in filename:\n",
        "            # img = io.imread(os.path.join(folder,filename)) /255 \n",
        "            img = cv2.imread(os.path.join(folder,filename))\n",
        "            img = cv2.resize(cv2.cvtColor(img, cv2.COLOR_BGR2RGB), (100,100), interpolation = cv2.INTER_AREA)\n",
        "            img = img/255\n",
        "            if img is not None:\n",
        "                images.append(img)\n",
        "                labels.append(label)\n",
        "                imageNames.append(filename)\n",
        "    return np.array(images),np.array(labels),imageNames"
      ],
      "execution_count": null,
      "outputs": []
    },
    {
      "cell_type": "code",
      "metadata": {
        "id": "8MNqa2XZCz-Q"
      },
      "source": [
        "data_dir = '/content/gdrive/MyDrive/dataset2'"
      ],
      "execution_count": null,
      "outputs": []
    },
    {
      "cell_type": "code",
      "metadata": {
        "id": "3TJq9qzzC5DH"
      },
      "source": [
        "folder_names = [f for f in listdir(data_dir)]"
      ],
      "execution_count": null,
      "outputs": []
    },
    {
      "cell_type": "code",
      "metadata": {
        "colab": {
          "base_uri": "https://localhost:8080/"
        },
        "id": "4egxGEp0C9MY",
        "outputId": "6b84c64b-f3e6-4eb1-81b6-174984fbb086"
      },
      "source": [
        "count_img = 0\n",
        "for folder in folder_names:\n",
        "    imgs = [img for img in listdir(path.join(data_dir, folder))]\n",
        "    count_img += len(imgs)\n",
        "    print(folder, len(imgs))"
      ],
      "execution_count": null,
      "outputs": [
        {
          "output_type": "stream",
          "text": [
            "bonsai 128\n",
            "Motorbikes 798\n",
            "car_side 123\n",
            "airplanes 800\n",
            "sunflower 85\n",
            "laptop 81\n",
            "starfish 86\n",
            "watch 239\n",
            "Leopards 200\n",
            "brain 98\n"
          ],
          "name": "stdout"
        }
      ]
    },
    {
      "cell_type": "code",
      "metadata": {
        "id": "ZLkN16lGDCZw"
      },
      "source": [
        "Airplanes,Airplane_labels,imagenames0         = load_images_from_folder(path.join(data_dir, 'airplanes'),'Airplane')\n",
        "Bonsai,Bonsai_labels,imagenames1              = load_images_from_folder(path.join(data_dir, 'bonsai'),'Bonsai')\n",
        "Brain,Brain_labels,imagenames2                = load_images_from_folder(path.join(data_dir, 'brain'),'Brain')\n",
        "Car_side,Car_side_labels,imagenames3          = load_images_from_folder(path.join(data_dir, 'car_side'),'Car-side')\n",
        "Laptop,Laptop_labels,imagenames4              = load_images_from_folder(path.join(data_dir, 'laptop'),'Laptop')\n",
        "Leopards,Leopards_labels,imagenames5          = load_images_from_folder(path.join(data_dir, 'Leopards'),'Leopards')\n",
        "Motorbikes,Motorbike_labels,imagenames6       = load_images_from_folder(path.join(data_dir, 'Motorbikes'),'Motorbike')\n",
        "Starfish,Starfish_labels,imagenames7          = load_images_from_folder(path.join(data_dir, 'starfish'),'Starfish')\n",
        "Sunflower,Sunflower_labels,imagenames8        = load_images_from_folder(path.join(data_dir, 'sunflower'),'Sunflower')\n",
        "Watch,Watch_labels,imagenames9                = load_images_from_folder(path.join(data_dir, 'watch'),'Watch')"
      ],
      "execution_count": null,
      "outputs": []
    },
    {
      "cell_type": "code",
      "metadata": {
        "id": "IhvZxXjDFUHv"
      },
      "source": [
        "X = []\n",
        "Y = []\n",
        "imageNames = [] \n",
        "\n",
        "\n",
        "for i in range(len(Airplanes)):\n",
        "    X.append(Airplanes[i])\n",
        "    Y.append(Airplane_labels[i])\n",
        "    imageNames.append('Airplanes - ' + imagenames0[i])\n",
        "\n",
        "for i in range(len(Bonsai)):\n",
        "    X.append(Bonsai[i])\n",
        "    Y.append(Bonsai_labels[i])\n",
        "    imageNames.append('Bonsai - ' + imagenames1[i])\n",
        "\n",
        "for i in range(len(Brain)):\n",
        "    X.append(Brain[i])\n",
        "    Y.append(Brain_labels[i])\n",
        "    imageNames.append('Brain - ' + imagenames2[i])\n",
        "\n",
        "for i in range(len(Car_side)):\n",
        "    X.append(Car_side[i])\n",
        "    Y.append(Car_side_labels[i])\n",
        "    imageNames.append('Car_side - ' + imagenames3[i])\n",
        "\n",
        "for i in range(len(Laptop)):\n",
        "    X.append(Laptop[i])\n",
        "    Y.append(Laptop_labels[i])\n",
        "    imageNames.append('Laptop - ' + imagenames4[i])\n",
        "\n",
        "for i in range(len(Leopards)):\n",
        "    X.append(Leopards[i])\n",
        "    Y.append(Leopards_labels[i])\n",
        "    imageNames.append('Leopards - ' + imagenames5[i])\n",
        "\n",
        "for i in range(len(Motorbikes)):\n",
        "    X.append(Motorbikes[i])\n",
        "    Y.append(Motorbike_labels[i])\n",
        "    imageNames.append('Motorbike - ' + imagenames6[i])\n",
        "\n",
        "for i in range(len(Starfish)):\n",
        "    X.append(Starfish[i])\n",
        "    Y.append(Starfish_labels[i])\n",
        "    imageNames.append('Starfish - ' + imagenames7[i])\n",
        "\n",
        "for i in range(len(Sunflower)):\n",
        "    X.append(Sunflower[i])\n",
        "    Y.append(Sunflower_labels[i])\n",
        "    imageNames.append('Sunflower - ' + imagenames8[i])\n",
        "\n",
        "for i in range(len(Watch)):\n",
        "    X.append(Watch[i])\n",
        "    Y.append(Watch_labels[i])\n",
        "    imageNames.append('Watch - ' + imagenames9[i])\n"
      ],
      "execution_count": null,
      "outputs": []
    },
    {
      "cell_type": "code",
      "metadata": {
        "id": "I59RbCroggTj"
      },
      "source": [
        "# X = X.reshape(X.shape[0], X.shape[1], X.shape[2], 3)\n",
        "\n",
        "temp = list(zip(X, Y,imageNames))\n",
        "random.shuffle(temp)\n",
        "X, Y,imageNames = zip(*temp)\n",
        "del temp\n",
        "X = np.array(X,dtype=float)\n",
        "Y = np.array(Y)"
      ],
      "execution_count": null,
      "outputs": []
    },
    {
      "cell_type": "code",
      "metadata": {
        "colab": {
          "base_uri": "https://localhost:8080/"
        },
        "id": "KZUYMZZUm1kJ",
        "outputId": "3bd788b5-b98e-4f14-ddaa-f1efdf535db3"
      },
      "source": [
        "label_encoder = LabelEncoder()\n",
        "Y_integer_encoded = label_encoder.fit_transform(Y)\n",
        "Y_integer_encoded"
      ],
      "execution_count": null,
      "outputs": [
        {
          "output_type": "execute_result",
          "data": {
            "text/plain": [
              "array([5, 9, 6, ..., 0, 6, 6])"
            ]
          },
          "metadata": {
            "tags": []
          },
          "execution_count": 10
        }
      ]
    },
    {
      "cell_type": "code",
      "metadata": {
        "colab": {
          "base_uri": "https://localhost:8080/",
          "height": 303
        },
        "id": "QGDUNHZQDMzs",
        "outputId": "44052623-3fe8-4f30-d677-3df6a9d2df9e"
      },
      "source": [
        "plt.imshow(X[10])\n",
        "plt.show()\n",
        "\n",
        "print(Y[10])\n",
        "print(imageNames[10])"
      ],
      "execution_count": null,
      "outputs": [
        {
          "output_type": "display_data",
          "data": {
            "image/png": "[encoded data removed]",
            "text/plain": [
              "<Figure size 432x288 with 1 Axes>"
            ]
          },
          "metadata": {
            "tags": [],
            "needs_background": "light"
          }
        },
        {
          "output_type": "stream",
          "text": [
            "Watch\n",
            "Watch - image_0063.jpg\n"
          ],
          "name": "stdout"
        }
      ]
    },
    {
      "cell_type": "code",
      "metadata": {
        "colab": {
          "base_uri": "https://localhost:8080/"
        },
        "id": "JJpsSvpqECvE",
        "outputId": "fc94b4d5-9eda-4d06-ce19-346d31a9f74f"
      },
      "source": [
        "X.shape"
      ],
      "execution_count": null,
      "outputs": [
        {
          "output_type": "execute_result",
          "data": {
            "text/plain": [
              "(2638, 100, 100, 3)"
            ]
          },
          "metadata": {
            "tags": []
          },
          "execution_count": 12
        }
      ]
    },
    {
      "cell_type": "code",
      "metadata": {
        "id": "-yR571uqEET_",
        "colab": {
          "base_uri": "https://localhost:8080/"
        },
        "outputId": "e984622d-3f29-4ec6-923c-7c939656c754"
      },
      "source": [
        "Y.shape"
      ],
      "execution_count": null,
      "outputs": [
        {
          "output_type": "execute_result",
          "data": {
            "text/plain": [
              "(2638,)"
            ]
          },
          "metadata": {
            "tags": []
          },
          "execution_count": 13
        }
      ]
    },
    {
      "cell_type": "code",
      "metadata": {
        "colab": {
          "base_uri": "https://localhost:8080/"
        },
        "id": "l7yJYRyqEJdo",
        "outputId": "56ca7c5f-a5b1-4c85-dce6-f455d3aafafe"
      },
      "source": [
        "len(imageNames)"
      ],
      "execution_count": null,
      "outputs": [
        {
          "output_type": "execute_result",
          "data": {
            "text/plain": [
              "2638"
            ]
          },
          "metadata": {
            "tags": []
          },
          "execution_count": 14
        }
      ]
    },
    {
      "cell_type": "code",
      "metadata": {
        "id": "aD6UNOcENSCf"
      },
      "source": [
        "X_train, X_test, y_train, y_test = train_test_split(X, Y_integer_encoded, test_size=0.15)\n",
        "X_train, X_val, y_train, y_val = train_test_split(X_train, y_train, test_size=0.18)"
      ],
      "execution_count": null,
      "outputs": []
    },
    {
      "cell_type": "markdown",
      "metadata": {
        "id": "EZVKczbTooMX"
      },
      "source": [
        "# Bulid The Model "
      ]
    },
    {
      "cell_type": "code",
      "metadata": {
        "id": "rj0KAosgpc49"
      },
      "source": [
        "import keras\n",
        "from keras.models import Sequential\n",
        "from keras.layers import Dense, Dropout, Flatten, Activation\n",
        "from keras.layers import Conv2D, MaxPooling2D"
      ],
      "execution_count": null,
      "outputs": []
    },
    {
      "cell_type": "code",
      "metadata": {
        "id": "RNeuR-zKmveY"
      },
      "source": [
        "def buildModel():\n",
        "    model = Sequential()\n",
        "\n",
        "    model.add(Conv2D(32, (3, 3), activation='relu', input_shape=(100, 100, 3)))\n",
        "    model.add(Conv2D(32, (3, 3), activation='relu'))\n",
        "    model.add(MaxPooling2D(pool_size=(2, 2)))\n",
        "    model.add(Dropout(0.25))\n",
        "\n",
        "    model.add(Conv2D(64, (3, 3), activation='relu'))\n",
        "    model.add(Conv2D(64, (3, 3), activation='relu'))\n",
        "    model.add(MaxPooling2D(pool_size=(2, 2)))\n",
        "\n",
        "    model.add(Dropout(0.8))\n",
        "\n",
        "    model.add(Flatten())\n",
        "\n",
        "    model.add(Dense(512, activation='relu'))\n",
        "    model.add(Dense(10, activation='softmax'))\n",
        "\n",
        "    model.compile(loss='sparse_categorical_crossentropy', optimizer='adam',metrics=['accuracy'])\n",
        "    model.summary()\n",
        "    \n",
        "    return model"
      ],
      "execution_count": null,
      "outputs": []
    },
    {
      "cell_type": "code",
      "metadata": {
        "colab": {
          "base_uri": "https://localhost:8080/"
        },
        "id": "RPzWY1YQpFEW",
        "outputId": "e12a1d17-87b8-4dbf-eb17-3b4d71c73d6e"
      },
      "source": [
        "model = buildModel()"
      ],
      "execution_count": null,
      "outputs": [
        {
          "output_type": "stream",
          "text": [
            "Model: \"sequential_12\"\n",
            "_________________________________________________________________\n",
            "Layer (type)                 Output Shape              Param #   \n",
            "=================================================================\n",
            "conv2d_50 (Conv2D)           (None, 98, 98, 32)        896       \n",
            "_________________________________________________________________\n",
            "conv2d_51 (Conv2D)           (None, 96, 96, 32)        9248      \n",
            "_________________________________________________________________\n",
            "max_pooling2d_25 (MaxPooling (None, 48, 48, 32)        0         \n",
            "_________________________________________________________________\n",
            "dropout_25 (Dropout)         (None, 48, 48, 32)        0         \n",
            "_________________________________________________________________\n",
            "conv2d_52 (Conv2D)           (None, 46, 46, 64)        18496     \n",
            "_________________________________________________________________\n",
            "conv2d_53 (Conv2D)           (None, 44, 44, 64)        36928     \n",
            "_________________________________________________________________\n",
            "max_pooling2d_26 (MaxPooling (None, 22, 22, 64)        0         \n",
            "_________________________________________________________________\n",
            "dropout_26 (Dropout)         (None, 22, 22, 64)        0         \n",
            "_________________________________________________________________\n",
            "flatten_12 (Flatten)         (None, 30976)             0         \n",
            "_________________________________________________________________\n",
            "dense_24 (Dense)             (None, 512)               15860224  \n",
            "_________________________________________________________________\n",
            "dense_25 (Dense)             (None, 10)                5130      \n",
            "=================================================================\n",
            "Total params: 15,930,922\n",
            "Trainable params: 15,930,922\n",
            "Non-trainable params: 0\n",
            "_________________________________________________________________\n"
          ],
          "name": "stdout"
        }
      ]
    },
    {
      "cell_type": "code",
      "metadata": {
        "colab": {
          "base_uri": "https://localhost:8080/"
        },
        "id": "nM9v8-D-pWVY",
        "outputId": "a3a346f7-a8c7-44b1-f9fc-1f172b7ca71b"
      },
      "source": [
        "call = [keras.callbacks.ModelCheckpoint('/content/Caltech_Model.h5', monitor='val_accuracy', verbose=1, save_best_only=True, mode='max')]\n",
        "history = model.fit(X_train, y_train, epochs = 15, validation_data= (X_val, y_val), batch_size= 64,shuffle=True ,callbacks = call)"
      ],
      "execution_count": null,
      "outputs": [
        {
          "output_type": "stream",
          "text": [
            "Epoch 1/15\n",
            "29/29 [==============================] - 4s 112ms/step - loss: 2.1496 - accuracy: 0.2858 - val_loss: 1.6805 - val_accuracy: 0.5668\n",
            "\n",
            "Epoch 00001: val_accuracy improved from -inf to 0.56683, saving model to /content/Caltech_Model.h5\n",
            "Epoch 2/15\n",
            "29/29 [==============================] - 2s 86ms/step - loss: 1.2977 - accuracy: 0.6001 - val_loss: 1.1186 - val_accuracy: 0.5743\n",
            "\n",
            "Epoch 00002: val_accuracy improved from 0.56683 to 0.57426, saving model to /content/Caltech_Model.h5\n",
            "Epoch 3/15\n",
            "29/29 [==============================] - 3s 87ms/step - loss: 0.6438 - accuracy: 0.7912 - val_loss: 0.4955 - val_accuracy: 0.8342\n",
            "\n",
            "Epoch 00003: val_accuracy improved from 0.57426 to 0.83416, saving model to /content/Caltech_Model.h5\n",
            "Epoch 4/15\n",
            "29/29 [==============================] - 2s 86ms/step - loss: 0.4549 - accuracy: 0.8570 - val_loss: 0.4392 - val_accuracy: 0.8589\n",
            "\n",
            "Epoch 00004: val_accuracy improved from 0.83416 to 0.85891, saving model to /content/Caltech_Model.h5\n",
            "Epoch 5/15\n",
            "29/29 [==============================] - 3s 87ms/step - loss: 0.2833 - accuracy: 0.9022 - val_loss: 0.3429 - val_accuracy: 0.9010\n",
            "\n",
            "Epoch 00005: val_accuracy improved from 0.85891 to 0.90099, saving model to /content/Caltech_Model.h5\n",
            "Epoch 6/15\n",
            "29/29 [==============================] - 2s 86ms/step - loss: 0.2053 - accuracy: 0.9384 - val_loss: 0.2859 - val_accuracy: 0.9233\n",
            "\n",
            "Epoch 00006: val_accuracy improved from 0.90099 to 0.92327, saving model to /content/Caltech_Model.h5\n",
            "Epoch 7/15\n",
            "29/29 [==============================] - 3s 87ms/step - loss: 0.1907 - accuracy: 0.9425 - val_loss: 0.3460 - val_accuracy: 0.9134\n",
            "\n",
            "Epoch 00007: val_accuracy did not improve from 0.92327\n",
            "Epoch 8/15\n",
            "29/29 [==============================] - 3s 87ms/step - loss: 0.1961 - accuracy: 0.9320 - val_loss: 0.2977 - val_accuracy: 0.9233\n",
            "\n",
            "Epoch 00008: val_accuracy did not improve from 0.92327\n",
            "Epoch 9/15\n",
            "29/29 [==============================] - 2s 86ms/step - loss: 0.0916 - accuracy: 0.9662 - val_loss: 0.3459 - val_accuracy: 0.9084\n",
            "\n",
            "Epoch 00009: val_accuracy did not improve from 0.92327\n",
            "Epoch 10/15\n",
            "29/29 [==============================] - 2s 86ms/step - loss: 0.0953 - accuracy: 0.9647 - val_loss: 0.2817 - val_accuracy: 0.9381\n",
            "\n",
            "Epoch 00010: val_accuracy improved from 0.92327 to 0.93812, saving model to /content/Caltech_Model.h5\n",
            "Epoch 11/15\n",
            "29/29 [==============================] - 2s 86ms/step - loss: 0.0580 - accuracy: 0.9832 - val_loss: 0.3279 - val_accuracy: 0.9134\n",
            "\n",
            "Epoch 00011: val_accuracy did not improve from 0.93812\n",
            "Epoch 12/15\n",
            "29/29 [==============================] - 2s 86ms/step - loss: 0.0772 - accuracy: 0.9780 - val_loss: 0.3634 - val_accuracy: 0.9035\n",
            "\n",
            "Epoch 00012: val_accuracy did not improve from 0.93812\n",
            "Epoch 13/15\n",
            "29/29 [==============================] - 2s 86ms/step - loss: 0.0623 - accuracy: 0.9808 - val_loss: 0.3254 - val_accuracy: 0.9183\n",
            "\n",
            "Epoch 00013: val_accuracy did not improve from 0.93812\n",
            "Epoch 14/15\n",
            "29/29 [==============================] - 3s 91ms/step - loss: 0.0589 - accuracy: 0.9774 - val_loss: 0.3641 - val_accuracy: 0.9158\n",
            "\n",
            "Epoch 00014: val_accuracy did not improve from 0.93812\n",
            "Epoch 15/15\n",
            "29/29 [==============================] - 3s 91ms/step - loss: 0.0480 - accuracy: 0.9847 - val_loss: 0.2994 - val_accuracy: 0.9356\n",
            "\n",
            "Epoch 00015: val_accuracy did not improve from 0.93812\n"
          ],
          "name": "stdout"
        }
      ]
    },
    {
      "cell_type": "code",
      "metadata": {
        "colab": {
          "base_uri": "https://localhost:8080/"
        },
        "id": "QPrBDcIjpzDa",
        "outputId": "d7b95ac0-38aa-4790-f8c5-7b23efe2d583"
      },
      "source": [
        "results = model.evaluate(X_test, y_test)\n",
        "\n",
        "m2 = keras.models.load_model('Caltech_Model.h5')\n",
        "\n",
        "m2.evaluate(X_test, y_test)"
      ],
      "execution_count": null,
      "outputs": [
        {
          "output_type": "stream",
          "text": [
            "13/13 [==============================] - 0s 21ms/step - loss: 0.3379 - accuracy: 0.9419\n",
            "13/13 [==============================] - 1s 19ms/step - loss: 0.3001 - accuracy: 0.9242\n"
          ],
          "name": "stdout"
        },
        {
          "output_type": "execute_result",
          "data": {
            "text/plain": [
              "[0.3001399636268616, 0.9242424368858337]"
            ]
          },
          "metadata": {
            "tags": []
          },
          "execution_count": 96
        }
      ]
    },
    {
      "cell_type": "code",
      "metadata": {
        "colab": {
          "base_uri": "https://localhost:8080/"
        },
        "id": "DGbvJ1yCuV0s",
        "outputId": "9d035ea2-b2a4-46c5-d06f-c04d3193dd1b"
      },
      "source": [
        "model.save(\"my_model_caltech\")"
      ],
      "execution_count": null,
      "outputs": [
        {
          "output_type": "stream",
          "text": [
            "INFO:tensorflow:Assets written to: my_model_caltech/assets\n"
          ],
          "name": "stdout"
        }
      ]
    },
    {
      "cell_type": "code",
      "metadata": {
        "id": "Xy6RZWKiz8By"
      },
      "source": [
        "m = keras.models.load_model('my_model_caltech')"
      ],
      "execution_count": null,
      "outputs": []
    },
    {
      "cell_type": "code",
      "metadata": {
        "colab": {
          "base_uri": "https://localhost:8080/"
        },
        "id": "uhkg93Phz9sq",
        "outputId": "2ebaf681-523b-4123-dadb-586b7ae31d65"
      },
      "source": [
        "!zip -r /content/my_model.zip /content/my_model_caltech"
      ],
      "execution_count": null,
      "outputs": [
        {
          "output_type": "stream",
          "text": [
            "  adding: content/my_model_caltech/ (stored 0%)\n",
            "  adding: content/my_model_caltech/assets/ (stored 0%)\n",
            "  adding: content/my_model_caltech/variables/ (stored 0%)\n",
            "  adding: content/my_model_caltech/variables/variables.data-00000-of-00001 (deflated 9%)\n",
            "  adding: content/my_model_caltech/variables/variables.index (deflated 68%)\n",
            "  adding: content/my_model_caltech/saved_model.pb (deflated 89%)\n",
            "  adding: content/my_model_caltech/keras_metadata.pb (deflated 92%)\n"
          ],
          "name": "stdout"
        }
      ]
    },
    {
      "cell_type": "code",
      "metadata": {
        "colab": {
          "base_uri": "https://localhost:8080/"
        },
        "id": "Vnk9ipc-0Gqp",
        "outputId": "b48b554f-c950-4c15-9bd9-7bbdc256dbae"
      },
      "source": [
        "predected_labels = m.predict_classes(np.array(X))"
      ],
      "execution_count": null,
      "outputs": [
        {
          "output_type": "stream",
          "text": [
            "/usr/local/lib/python3.7/dist-packages/keras/engine/sequential.py:450: UserWarning: `model.predict_classes()` is deprecated and will be removed after 2021-01-01. Please use instead:* `np.argmax(model.predict(x), axis=-1)`,   if your model does multi-class classification   (e.g. if it uses a `softmax` last-layer activation).* `(model.predict(x) > 0.5).astype(\"int32\")`,   if your model does binary classification   (e.g. if it uses a `sigmoid` last-layer activation).\n",
            "  warnings.warn('`model.predict_classes()` is deprecated and '\n"
          ],
          "name": "stderr"
        }
      ]
    },
    {
      "cell_type": "code",
      "metadata": {
        "id": "0X9iE_XX1DHd"
      },
      "source": [
        "predictions_test = label_encoder.inverse_transform(predected_labels)"
      ],
      "execution_count": null,
      "outputs": []
    },
    {
      "cell_type": "code",
      "metadata": {
        "id": "SCBacWw00fzq"
      },
      "source": [
        "data = {'Image Name':imageNames,'Real lables':Y,'Predected Labels':predictions_test}\n",
        "\n",
        "df = pd.DataFrame(data)"
      ],
      "execution_count": null,
      "outputs": []
    },
    {
      "cell_type": "code",
      "metadata": {
        "colab": {
          "base_uri": "https://localhost:8080/",
          "height": 417
        },
        "id": "U3ArzL_g1MtB",
        "outputId": "d386cef8-ba02-41a7-a9a3-86d08136d12a"
      },
      "source": [
        "df"
      ],
      "execution_count": null,
      "outputs": [
        {
          "output_type": "execute_result",
          "data": {
            "text/html": [
              "<div>\n",
              "<style scoped>\n",
              "    .dataframe tbody tr th:only-of-type {\n",
              "        vertical-align: middle;\n",
              "    }\n",
              "\n",
              "    .dataframe tbody tr th {\n",
              "        vertical-align: top;\n",
              "    }\n",
              "\n",
              "    .dataframe thead th {\n",
              "        text-align: right;\n",
              "    }\n",
              "</style>\n",
              "<table border=\"1\" class=\"dataframe\">\n",
              "  <thead>\n",
              "    <tr style=\"text-align: right;\">\n",
              "      <th></th>\n",
              "      <th>Image Name</th>\n",
              "      <th>Real lables</th>\n",
              "      <th>Predected Labels</th>\n",
              "    </tr>\n",
              "  </thead>\n",
              "  <tbody>\n",
              "    <tr>\n",
              "      <th>0</th>\n",
              "      <td>Motorbike - image_0223.jpg</td>\n",
              "      <td>Motorbike</td>\n",
              "      <td>Motorbike</td>\n",
              "    </tr>\n",
              "    <tr>\n",
              "      <th>1</th>\n",
              "      <td>Airplanes - image_0109.jpg</td>\n",
              "      <td>Airplane</td>\n",
              "      <td>Airplane</td>\n",
              "    </tr>\n",
              "    <tr>\n",
              "      <th>2</th>\n",
              "      <td>Airplanes - image_0153.jpg</td>\n",
              "      <td>Airplane</td>\n",
              "      <td>Airplane</td>\n",
              "    </tr>\n",
              "    <tr>\n",
              "      <th>3</th>\n",
              "      <td>Brain - image_0025.jpg</td>\n",
              "      <td>Brain</td>\n",
              "      <td>Brain</td>\n",
              "    </tr>\n",
              "    <tr>\n",
              "      <th>4</th>\n",
              "      <td>Sunflower - image_0024.jpg</td>\n",
              "      <td>Sunflower</td>\n",
              "      <td>Sunflower</td>\n",
              "    </tr>\n",
              "    <tr>\n",
              "      <th>...</th>\n",
              "      <td>...</td>\n",
              "      <td>...</td>\n",
              "      <td>...</td>\n",
              "    </tr>\n",
              "    <tr>\n",
              "      <th>2633</th>\n",
              "      <td>Airplanes - image_0028.jpg</td>\n",
              "      <td>Airplane</td>\n",
              "      <td>Airplane</td>\n",
              "    </tr>\n",
              "    <tr>\n",
              "      <th>2634</th>\n",
              "      <td>Airplanes - image_0116.jpg</td>\n",
              "      <td>Airplane</td>\n",
              "      <td>Airplane</td>\n",
              "    </tr>\n",
              "    <tr>\n",
              "      <th>2635</th>\n",
              "      <td>Starfish - image_0047.jpg</td>\n",
              "      <td>Starfish</td>\n",
              "      <td>Starfish</td>\n",
              "    </tr>\n",
              "    <tr>\n",
              "      <th>2636</th>\n",
              "      <td>Motorbike - image_0062.jpg</td>\n",
              "      <td>Motorbike</td>\n",
              "      <td>Motorbike</td>\n",
              "    </tr>\n",
              "    <tr>\n",
              "      <th>2637</th>\n",
              "      <td>Motorbike - image_0301.jpg</td>\n",
              "      <td>Motorbike</td>\n",
              "      <td>Motorbike</td>\n",
              "    </tr>\n",
              "  </tbody>\n",
              "</table>\n",
              "<p>2638 rows × 3 columns</p>\n",
              "</div>"
            ],
            "text/plain": [
              "                      Image Name Real lables Predected Labels\n",
              "0     Motorbike - image_0223.jpg   Motorbike        Motorbike\n",
              "1     Airplanes - image_0109.jpg    Airplane         Airplane\n",
              "2     Airplanes - image_0153.jpg    Airplane         Airplane\n",
              "3         Brain - image_0025.jpg       Brain            Brain\n",
              "4     Sunflower - image_0024.jpg   Sunflower        Sunflower\n",
              "...                          ...         ...              ...\n",
              "2633  Airplanes - image_0028.jpg    Airplane         Airplane\n",
              "2634  Airplanes - image_0116.jpg    Airplane         Airplane\n",
              "2635   Starfish - image_0047.jpg    Starfish         Starfish\n",
              "2636  Motorbike - image_0062.jpg   Motorbike        Motorbike\n",
              "2637  Motorbike - image_0301.jpg   Motorbike        Motorbike\n",
              "\n",
              "[2638 rows x 3 columns]"
            ]
          },
          "metadata": {
            "tags": []
          },
          "execution_count": 103
        }
      ]
    },
    {
      "cell_type": "code",
      "metadata": {
        "id": "w09LM-dESjAf"
      },
      "source": [
        "from sklearn.metrics import classification_report, confusion_matrix , accuracy_score\n",
        "\n",
        "labels = ['bonsai','Motorbikes','car_side','airplanes','sunflower','laptop','starfish','watch','Leopards','brain']\n",
        "\n",
        "callsReport = classification_report(Y_integer_encoded, predected_labels, target_names=labels)"
      ],
      "execution_count": null,
      "outputs": []
    },
    {
      "cell_type": "code",
      "metadata": {
        "colab": {
          "base_uri": "https://localhost:8080/"
        },
        "id": "feC6B9xmYM6O",
        "outputId": "8db830d0-9701-439a-94fb-012ed056f180"
      },
      "source": [
        "print(callsReport)"
      ],
      "execution_count": null,
      "outputs": [
        {
          "output_type": "stream",
          "text": [
            "              precision    recall  f1-score   support\n",
            "\n",
            "      bonsai       0.99      1.00      0.99       800\n",
            "  Motorbikes       0.98      0.95      0.96       128\n",
            "    car_side       0.97      0.90      0.93        98\n",
            "   airplanes       0.96      0.98      0.97       123\n",
            "   sunflower       0.92      0.94      0.93        81\n",
            "      laptop       0.98      0.98      0.98       200\n",
            "    starfish       1.00      0.99      1.00       798\n",
            "       watch       0.91      0.98      0.94        86\n",
            "    Leopards       0.98      0.95      0.96        85\n",
            "       brain       0.96      0.97      0.97       239\n",
            "\n",
            "    accuracy                           0.98      2638\n",
            "   macro avg       0.96      0.96      0.96      2638\n",
            "weighted avg       0.98      0.98      0.98      2638\n",
            "\n"
          ],
          "name": "stdout"
        }
      ]
    },
    {
      "cell_type": "code",
      "metadata": {
        "id": "76OqjlFs1NRL"
      },
      "source": [
        "df.to_csv('Predections_Keras_Caltech.csv')"
      ],
      "execution_count": null,
      "outputs": []
    },
    {
      "cell_type": "code",
      "metadata": {
        "id": "UGr9K1T91Y-C",
        "colab": {
          "base_uri": "https://localhost:8080/",
          "height": 295
        },
        "outputId": "71fdfd86-c607-4c75-ed2d-be7a8bee331d"
      },
      "source": [
        "plt.plot(history.history['accuracy'])\n",
        "plt.plot(history.history['val_accuracy'])\n",
        "plt.title('model accuracy')\n",
        "plt.ylabel('accuracy')\n",
        "plt.xlabel('epoch')\n",
        "plt.legend(['train', 'val'], loc='upper left')\n",
        "plt.show()"
      ],
      "execution_count": null,
      "outputs": [
        {
          "output_type": "display_data",
          "data": {
            "image/png": "[encoded data removed]",
            "text/plain": [
              "<Figure size 432x288 with 1 Axes>"
            ]
          },
          "metadata": {
            "tags": [],
            "needs_background": "light"
          }
        }
      ]
    },
    {
      "cell_type": "code",
      "metadata": {
        "colab": {
          "base_uri": "https://localhost:8080/",
          "height": 295
        },
        "id": "oBLibpQFI2rR",
        "outputId": "d8bf405d-3d37-4c5b-ffdf-f31c8bf4fde8"
      },
      "source": [
        "plt.plot(history.history['loss'])\n",
        "plt.plot(history.history['val_loss'])\n",
        "plt.title('model loss')\n",
        "plt.ylabel('loss')\n",
        "plt.xlabel('epoch')\n",
        "plt.legend(['train', 'val'], loc='upper left')\n",
        "plt.show()"
      ],
      "execution_count": null,
      "outputs": [
        {
          "output_type": "display_data",
          "data": {
            "image/png": "[encoded data removed]",
            "text/plain": [
              "<Figure size 432x288 with 1 Axes>"
            ]
          },
          "metadata": {
            "tags": [],
            "needs_background": "light"
          }
        }
      ]
    },
    {
      "cell_type": "markdown",
      "metadata": {
        "id": "lNaS_PsFk22-"
      },
      "source": [
        "# Alex net"
      ]
    },
    {
      "cell_type": "code",
      "metadata": {
        "id": "C4Gpci1Jk4Tk"
      },
      "source": [
        "from keras.models import Sequential\n",
        "from keras.layers.core import Dense, Dropout, Activation, Flatten\n",
        "from keras.layers.convolutional import Conv2D, MaxPooling2D, ZeroPadding2D\n",
        "from keras.layers.normalization import BatchNormalization\n",
        "from keras.regularizers import l2\n",
        "\n",
        "# https://github.com/eweill/keras-deepcv/blob/master/models/classification/alexnet.py\n",
        "\n",
        "def alexnet_model(img_shape=(100, 100, 3), n_classes=10, l2_reg=0.,\n",
        "\tweights=None):\n",
        "\n",
        "\t# Initialize model\n",
        "\talexnet = Sequential()\n",
        "\n",
        "\t# Layer 1\n",
        "\talexnet.add(Conv2D(96, (11, 11), input_shape=img_shape,\n",
        "\t\tpadding='same', kernel_regularizer=l2(l2_reg)))\n",
        "\talexnet.add(BatchNormalization())\n",
        "\talexnet.add(Activation('relu'))\n",
        "\talexnet.add(MaxPooling2D(pool_size=(2, 2)))\n",
        "\n",
        "\t# Layer 2\n",
        "\talexnet.add(Conv2D(256, (5, 5), padding='same'))\n",
        "\talexnet.add(BatchNormalization())\n",
        "\talexnet.add(Activation('relu'))\n",
        "\talexnet.add(MaxPooling2D(pool_size=(2, 2)))\n",
        "\n",
        "\t# Layer 3\n",
        "\talexnet.add(ZeroPadding2D((1, 1)))\n",
        "\talexnet.add(Conv2D(512, (3, 3), padding='same'))\n",
        "\talexnet.add(BatchNormalization())\n",
        "\talexnet.add(Activation('relu'))\n",
        "\talexnet.add(MaxPooling2D(pool_size=(2, 2)))\n",
        "\n",
        "\t# Layer 4\n",
        "\talexnet.add(ZeroPadding2D((1, 1)))\n",
        "\talexnet.add(Conv2D(1024, (3, 3), padding='same'))\n",
        "\talexnet.add(BatchNormalization())\n",
        "\talexnet.add(Activation('relu'))\n",
        "\n",
        "\t# Layer 5\n",
        "\talexnet.add(ZeroPadding2D((1, 1)))\n",
        "\talexnet.add(Conv2D(1024, (3, 3), padding='same'))\n",
        "\talexnet.add(BatchNormalization())\n",
        "\talexnet.add(Activation('relu'))\n",
        "\talexnet.add(MaxPooling2D(pool_size=(2, 2)))\n",
        "\n",
        "\t# Layer 6\n",
        "\talexnet.add(Flatten())\n",
        "\talexnet.add(Dense(3072))\n",
        "\talexnet.add(BatchNormalization())\n",
        "\talexnet.add(Activation('relu'))\n",
        "\talexnet.add(Dropout(0.5))\n",
        "\n",
        "\t# Layer 7\n",
        "\talexnet.add(Dense(4096))\n",
        "\talexnet.add(BatchNormalization())\n",
        "\talexnet.add(Activation('relu'))\n",
        "\talexnet.add(Dropout(0.5))\n",
        "\n",
        "\t# Layer 8\n",
        "\talexnet.add(Dense(n_classes))\n",
        "\talexnet.add(BatchNormalization())\n",
        "\talexnet.add(Activation('softmax'))\n",
        "\n",
        "\tif weights is not None:\n",
        "\t\talexnet.load_weights(weights)\n",
        "\n",
        "\treturn alexnet"
      ],
      "execution_count": null,
      "outputs": []
    },
    {
      "cell_type": "code",
      "metadata": {
        "colab": {
          "base_uri": "https://localhost:8080/"
        },
        "id": "YUN17qjzscWV",
        "outputId": "212fa872-d104-4fb8-fad5-b3a2ce4f401c"
      },
      "source": [
        "model = alexnet_model()\n",
        "model.compile(loss='sparse_categorical_crossentropy', optimizer='adam',metrics=['accuracy'])\n",
        "model.summary()"
      ],
      "execution_count": null,
      "outputs": [
        {
          "output_type": "stream",
          "text": [
            "Model: \"sequential_2\"\n",
            "_________________________________________________________________\n",
            "Layer (type)                 Output Shape              Param #   \n",
            "=================================================================\n",
            "conv2d_10 (Conv2D)           (None, 100, 100, 96)      34944     \n",
            "_________________________________________________________________\n",
            "batch_normalization_16 (Batc (None, 100, 100, 96)      384       \n",
            "_________________________________________________________________\n",
            "activation_16 (Activation)   (None, 100, 100, 96)      0         \n",
            "_________________________________________________________________\n",
            "max_pooling2d_8 (MaxPooling2 (None, 50, 50, 96)        0         \n",
            "_________________________________________________________________\n",
            "conv2d_11 (Conv2D)           (None, 50, 50, 256)       614656    \n",
            "_________________________________________________________________\n",
            "batch_normalization_17 (Batc (None, 50, 50, 256)       1024      \n",
            "_________________________________________________________________\n",
            "activation_17 (Activation)   (None, 50, 50, 256)       0         \n",
            "_________________________________________________________________\n",
            "max_pooling2d_9 (MaxPooling2 (None, 25, 25, 256)       0         \n",
            "_________________________________________________________________\n",
            "zero_padding2d_6 (ZeroPaddin (None, 27, 27, 256)       0         \n",
            "_________________________________________________________________\n",
            "conv2d_12 (Conv2D)           (None, 27, 27, 512)       1180160   \n",
            "_________________________________________________________________\n",
            "batch_normalization_18 (Batc (None, 27, 27, 512)       2048      \n",
            "_________________________________________________________________\n",
            "activation_18 (Activation)   (None, 27, 27, 512)       0         \n",
            "_________________________________________________________________\n",
            "max_pooling2d_10 (MaxPooling (None, 13, 13, 512)       0         \n",
            "_________________________________________________________________\n",
            "zero_padding2d_7 (ZeroPaddin (None, 15, 15, 512)       0         \n",
            "_________________________________________________________________\n",
            "conv2d_13 (Conv2D)           (None, 15, 15, 1024)      4719616   \n",
            "_________________________________________________________________\n",
            "batch_normalization_19 (Batc (None, 15, 15, 1024)      4096      \n",
            "_________________________________________________________________\n",
            "activation_19 (Activation)   (None, 15, 15, 1024)      0         \n",
            "_________________________________________________________________\n",
            "zero_padding2d_8 (ZeroPaddin (None, 17, 17, 1024)      0         \n",
            "_________________________________________________________________\n",
            "conv2d_14 (Conv2D)           (None, 17, 17, 1024)      9438208   \n",
            "_________________________________________________________________\n",
            "batch_normalization_20 (Batc (None, 17, 17, 1024)      4096      \n",
            "_________________________________________________________________\n",
            "activation_20 (Activation)   (None, 17, 17, 1024)      0         \n",
            "_________________________________________________________________\n",
            "max_pooling2d_11 (MaxPooling (None, 8, 8, 1024)        0         \n",
            "_________________________________________________________________\n",
            "flatten_2 (Flatten)          (None, 65536)             0         \n",
            "_________________________________________________________________\n",
            "dense_6 (Dense)              (None, 3072)              201329664 \n",
            "_________________________________________________________________\n",
            "batch_normalization_21 (Batc (None, 3072)              12288     \n",
            "_________________________________________________________________\n",
            "activation_21 (Activation)   (None, 3072)              0         \n",
            "_________________________________________________________________\n",
            "dropout_4 (Dropout)          (None, 3072)              0         \n",
            "_________________________________________________________________\n",
            "dense_7 (Dense)              (None, 4096)              12587008  \n",
            "_________________________________________________________________\n",
            "batch_normalization_22 (Batc (None, 4096)              16384     \n",
            "_________________________________________________________________\n",
            "activation_22 (Activation)   (None, 4096)              0         \n",
            "_________________________________________________________________\n",
            "dropout_5 (Dropout)          (None, 4096)              0         \n",
            "_________________________________________________________________\n",
            "dense_8 (Dense)              (None, 10)                40970     \n",
            "_________________________________________________________________\n",
            "batch_normalization_23 (Batc (None, 10)                40        \n",
            "_________________________________________________________________\n",
            "activation_23 (Activation)   (None, 10)                0         \n",
            "=================================================================\n",
            "Total params: 229,985,586\n",
            "Trainable params: 229,965,406\n",
            "Non-trainable params: 20,180\n",
            "_________________________________________________________________\n"
          ],
          "name": "stdout"
        }
      ]
    },
    {
      "cell_type": "code",
      "metadata": {
        "colab": {
          "base_uri": "https://localhost:8080/"
        },
        "id": "GOI4RZnms5WJ",
        "outputId": "be655438-774b-4240-ee89-781b978d9a45"
      },
      "source": [
        "history = model.fit(X_train, y_train, epochs = 15, validation_data= (X_val, y_val), batch_size= 64,shuffle=True )"
      ],
      "execution_count": null,
      "outputs": [
        {
          "output_type": "stream",
          "text": [
            "Epoch 1/15\n",
            "29/29 [==============================] - 69s 583ms/step - loss: 1.5966 - accuracy: 0.5424 - val_loss: 11.5284 - val_accuracy: 0.3391\n",
            "Epoch 2/15\n",
            "29/29 [==============================] - 11s 379ms/step - loss: 0.9934 - accuracy: 0.8381 - val_loss: 2.7126 - val_accuracy: 0.3787\n",
            "Epoch 3/15\n",
            "29/29 [==============================] - 11s 387ms/step - loss: 0.7925 - accuracy: 0.9061 - val_loss: 1.7452 - val_accuracy: 0.5223\n",
            "Epoch 4/15\n",
            "29/29 [==============================] - 11s 395ms/step - loss: 0.6803 - accuracy: 0.9511 - val_loss: 1.9973 - val_accuracy: 0.2723\n",
            "Epoch 5/15\n",
            "29/29 [==============================] - 12s 406ms/step - loss: 0.6313 - accuracy: 0.9534 - val_loss: 1.9646 - val_accuracy: 0.2970\n",
            "Epoch 6/15\n",
            "29/29 [==============================] - 12s 403ms/step - loss: 0.5255 - accuracy: 0.9792 - val_loss: 1.7470 - val_accuracy: 0.4134\n",
            "Epoch 7/15\n",
            "29/29 [==============================] - 12s 397ms/step - loss: 0.4960 - accuracy: 0.9840 - val_loss: 1.8458 - val_accuracy: 0.3911\n",
            "Epoch 8/15\n",
            "29/29 [==============================] - 11s 389ms/step - loss: 0.4610 - accuracy: 0.9873 - val_loss: 1.3090 - val_accuracy: 0.6188\n",
            "Epoch 9/15\n",
            "29/29 [==============================] - 11s 388ms/step - loss: 0.4254 - accuracy: 0.9939 - val_loss: 1.2518 - val_accuracy: 0.6559\n",
            "Epoch 10/15\n",
            "29/29 [==============================] - 11s 390ms/step - loss: 0.3856 - accuracy: 0.9961 - val_loss: 0.9929 - val_accuracy: 0.7748\n",
            "Epoch 11/15\n",
            "29/29 [==============================] - 11s 390ms/step - loss: 0.3507 - accuracy: 0.9984 - val_loss: 1.0232 - val_accuracy: 0.7277\n",
            "Epoch 12/15\n",
            "29/29 [==============================] - 11s 394ms/step - loss: 0.3309 - accuracy: 0.9972 - val_loss: 0.9169 - val_accuracy: 0.7995\n",
            "Epoch 13/15\n",
            "29/29 [==============================] - 11s 395ms/step - loss: 0.3159 - accuracy: 0.9990 - val_loss: 0.6756 - val_accuracy: 0.9059\n",
            "Epoch 14/15\n",
            "29/29 [==============================] - 11s 395ms/step - loss: 0.3079 - accuracy: 0.9969 - val_loss: 0.4989 - val_accuracy: 0.9381\n",
            "Epoch 15/15\n",
            "29/29 [==============================] - 11s 394ms/step - loss: 0.2764 - accuracy: 0.9971 - val_loss: 0.5420 - val_accuracy: 0.9282\n"
          ],
          "name": "stdout"
        }
      ]
    },
    {
      "cell_type": "code",
      "metadata": {
        "colab": {
          "base_uri": "https://localhost:8080/"
        },
        "id": "_iLEXR6vtWsZ",
        "outputId": "3bb9b958-45dc-4b44-97f6-62197e32b6c0"
      },
      "source": [
        "results = model.evaluate(X_test, y_test)"
      ],
      "execution_count": null,
      "outputs": [
        {
          "output_type": "stream",
          "text": [
            "13/13 [==============================] - 3s 105ms/step - loss: 0.5248 - accuracy: 0.9419\n"
          ],
          "name": "stdout"
        }
      ]
    },
    {
      "cell_type": "code",
      "metadata": {
        "colab": {
          "base_uri": "https://localhost:8080/",
          "height": 295
        },
        "id": "UEmcg6uKtwZk",
        "outputId": "f482f824-7627-414a-fbc3-05f4772d3cc7"
      },
      "source": [
        "plt.plot(history.history['accuracy'])\n",
        "plt.plot(history.history['val_accuracy'])\n",
        "plt.title('model accuracy')\n",
        "plt.ylabel('accuracy')\n",
        "plt.xlabel('epoch')\n",
        "plt.legend(['train', 'val'], loc='upper left')\n",
        "plt.show()"
      ],
      "execution_count": null,
      "outputs": [
        {
          "output_type": "display_data",
          "data": {
            "image/png": "[encoded data removed]",
            "text/plain": [
              "<Figure size 432x288 with 1 Axes>"
            ]
          },
          "metadata": {
            "tags": [],
            "needs_background": "light"
          }
        }
      ]
    },
    {
      "cell_type": "code",
      "metadata": {
        "colab": {
          "base_uri": "https://localhost:8080/",
          "height": 295
        },
        "id": "D3a7i_cetzb5",
        "outputId": "c62511c5-6771-4d32-e08a-c5553823427a"
      },
      "source": [
        "plt.plot(history.history['loss'])\n",
        "plt.plot(history.history['val_loss'])\n",
        "plt.title('model loss')\n",
        "plt.ylabel('loss')\n",
        "plt.xlabel('epoch')\n",
        "plt.legend(['train', 'val'], loc='upper left')\n",
        "plt.show()"
      ],
      "execution_count": null,
      "outputs": [
        {
          "output_type": "display_data",
          "data": {
            "image/png": "[encoded data removed]",
            "text/plain": [
              "<Figure size 432x288 with 1 Axes>"
            ]
          },
          "metadata": {
            "tags": [],
            "needs_background": "light"
          }
        }
      ]
    },
    {
      "cell_type": "code",
      "metadata": {
        "id": "4z8--WwzuTe_"
      },
      "source": [
        ""
      ],
      "execution_count": null,
      "outputs": []
    }
  ]
}